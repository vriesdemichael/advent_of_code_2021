{
 "cells": [
  {
   "cell_type": "code",
   "execution_count": 38,
   "metadata": {
    "collapsed": true
   },
   "outputs": [],
   "source": [
    "from collections import Counter\n",
    "from pathlib import Path"
   ]
  },
  {
   "cell_type": "code",
   "execution_count": 2,
   "outputs": [],
   "source": [
    "input_text = Path(\"../input_data/12\").read_text()"
   ],
   "metadata": {
    "collapsed": false,
    "pycharm": {
     "name": "#%%\n"
    }
   }
  },
  {
   "cell_type": "code",
   "execution_count": 24,
   "outputs": [],
   "source": [
    "test_input1 = \"\"\"start-A\n",
    "start-b\n",
    "A-c\n",
    "A-b\n",
    "b-d\n",
    "A-end\n",
    "b-end\"\"\"\n",
    "\n",
    "test_input2 = \"\"\"dc-end\n",
    "HN-start\n",
    "start-kj\n",
    "dc-start\n",
    "dc-HN\n",
    "LN-dc\n",
    "HN-end\n",
    "kj-sa\n",
    "kj-HN\n",
    "kj-dc\"\"\"\n",
    "\n",
    "test_input3 = \"\"\"fs-end\n",
    "he-DX\n",
    "fs-he\n",
    "start-DX\n",
    "pj-DX\n",
    "end-zg\n",
    "zg-sl\n",
    "zg-pj\n",
    "pj-he\n",
    "RW-he\n",
    "fs-DX\n",
    "pj-RW\n",
    "zg-RW\n",
    "start-pj\n",
    "he-WI\n",
    "zg-he\n",
    "pj-fs\n",
    "start-RW\"\"\""
   ],
   "metadata": {
    "collapsed": false,
    "pycharm": {
     "name": "#%%\n"
    }
   }
  },
  {
   "cell_type": "code",
   "execution_count": 27,
   "outputs": [],
   "source": [
    "vertices = set()\n",
    "edges = set()\n",
    "\n",
    "for line in input_text.split(\"\\n\"):\n",
    "    a, b = line.split(\"-\")\n",
    "    vertices.add(a)\n",
    "    vertices.add(b)\n",
    "    edges.add((a, b))\n",
    "    edges.add((b, a))"
   ],
   "metadata": {
    "collapsed": false,
    "pycharm": {
     "name": "#%%\n"
    }
   }
  },
  {
   "cell_type": "code",
   "execution_count": 30,
   "outputs": [
    {
     "data": {
      "text/plain": "[('start', 'rj', 'yb', 'MU', 'jv', 'MU', 'oa', 'MU', 'vd', 'end'),\n ('start',\n  'yb',\n  'DN',\n  'vd',\n  'MU',\n  'jv',\n  'MU',\n  'oa',\n  'MU',\n  'de',\n  'VP',\n  'rj',\n  'DN',\n  'end'),\n ('start', 'VP', 'oa', 'MU', 'jv', 'MU', 'de', 'rj', 'yb', 'MU', 'vd', 'end'),\n ('start',\n  'VP',\n  'rj',\n  'VP',\n  'oa',\n  'MU',\n  'vd',\n  'MU',\n  'jv',\n  'MU',\n  'de',\n  'OC',\n  'yb',\n  'OC',\n  'end'),\n ('start',\n  'VP',\n  'oa',\n  'MU',\n  'de',\n  'MU',\n  'jv',\n  'MU',\n  'yb',\n  'DN',\n  'vd',\n  'DN',\n  'end'),\n ('start', 'rj', 'yb', 'MU', 'oa', 'MU', 'jv', 'MU', 'vd', 'DN', 'end'),\n ('start',\n  'VP',\n  'oa',\n  'MU',\n  'vd',\n  'MU',\n  'jv',\n  'MU',\n  'yb',\n  'DN',\n  'rj',\n  'VP',\n  'de',\n  'OC',\n  'end'),\n ('start', 'rj', 'DN', 'vd', 'MU', 'oa', 'MU', 'yb', 'de', 'OC', 'end'),\n ('start', 'yb', 'DN', 'rj', 'de', 'MU', 'vd', 'end'),\n ('start',\n  'VP',\n  'oa',\n  'MU',\n  'jv',\n  'MU',\n  'vd',\n  'MU',\n  'de',\n  'OC',\n  'yb',\n  'OC',\n  'end')]"
     },
     "metadata": {},
     "output_type": "display_data"
    },
    {
     "data": {
      "text/plain": "4411"
     },
     "metadata": {},
     "output_type": "display_data"
    }
   ],
   "source": [
    "completed_paths = set()\n",
    "\n",
    "new_paths = set()\n",
    "new_paths.add((\"start\",),)\n",
    "while new_paths:\n",
    "    paths = new_paths.copy()\n",
    "    new_paths = set()\n",
    "    for path in paths:\n",
    "        # print(f\"{path=}\")\n",
    "        current_location = path[-1]\n",
    "        relevant_edges = [(a, b) for (a, b) in edges if (current_location == a and (b not in path or b == b.upper())) or (current_location == b and (a not in path or a.upper == a))]\n",
    "        # print(f\"{relevant_edges=} {edges=}\")\n",
    "\n",
    "        if not relevant_edges:\n",
    "            continue\n",
    "\n",
    "        for (a, b) in relevant_edges:\n",
    "            if a in path:\n",
    "                if b == \"end\":\n",
    "                    completed_paths.add((*path, b))\n",
    "                else:\n",
    "                    new_paths.add((*path, b))\n",
    "\n",
    "            else:\n",
    "                if a == \"end\":\n",
    "                    completed_paths.add((*path, a))\n",
    "                else:\n",
    "                    new_paths.add((*path, a))\n",
    "display(list(completed_paths)[:10])\n",
    "display(len(completed_paths))"
   ],
   "metadata": {
    "collapsed": false,
    "pycharm": {
     "name": "#%%\n"
    }
   }
  },
  {
   "cell_type": "code",
   "execution_count": 73,
   "outputs": [],
   "source": [
    "vertices = set()\n",
    "edges = set()\n",
    "\n",
    "for line in input_text.split(\"\\n\"):\n",
    "    a, b = line.split(\"-\")\n",
    "    vertices.add(a)\n",
    "    vertices.add(b)\n",
    "    edges.add((a, b))\n",
    "    edges.add((b, a))"
   ],
   "metadata": {
    "collapsed": false,
    "pycharm": {
     "name": "#%%\n"
    }
   }
  },
  {
   "cell_type": "code",
   "execution_count": 74,
   "outputs": [
    {
     "data": {
      "text/plain": "[('start',\n  'rj',\n  'DN',\n  'vd',\n  'MU',\n  'oa',\n  'MU',\n  'jv',\n  'MU',\n  'oa',\n  'VP',\n  'de',\n  'OC',\n  'yb',\n  'DN',\n  'end'),\n ('start',\n  'VP',\n  'rj',\n  'VP',\n  'oa',\n  'MU',\n  'oa',\n  'MU',\n  'vd',\n  'MU',\n  'jv',\n  'MU',\n  'de',\n  'OC',\n  'yb',\n  'OC',\n  'end'),\n ('start',\n  'VP',\n  'oa',\n  'MU',\n  'vd',\n  'DN',\n  'rj',\n  'de',\n  'MU',\n  'yb',\n  'DN',\n  'rj',\n  'DN',\n  'end'),\n ('start',\n  'VP',\n  'de',\n  'VP',\n  'de',\n  'MU',\n  'oa',\n  'MU',\n  'vd',\n  'MU',\n  'jv',\n  'MU',\n  'yb',\n  'rj',\n  'DN',\n  'end'),\n ('start',\n  'VP',\n  'oa',\n  'VP',\n  'de',\n  'MU',\n  'vd',\n  'DN',\n  'rj',\n  'DN',\n  'yb',\n  'DN',\n  'rj',\n  'DN',\n  'end'),\n ('start',\n  'yb',\n  'OC',\n  'yb',\n  'OC',\n  'de',\n  'MU',\n  'oa',\n  'MU',\n  'jv',\n  'MU',\n  'vd',\n  'DN',\n  'end'),\n ('start',\n  'VP',\n  'rj',\n  'DN',\n  'vd',\n  'de',\n  'MU',\n  'oa',\n  'MU',\n  'jv',\n  'MU',\n  'de',\n  'OC',\n  'end'),\n ('start',\n  'yb',\n  'OC',\n  'yb',\n  'DN',\n  'rj',\n  'VP',\n  'oa',\n  'VP',\n  'de',\n  'MU',\n  'vd',\n  'DN',\n  'end'),\n ('start',\n  'VP',\n  'oa',\n  'MU',\n  'vd',\n  'MU',\n  'jv',\n  'MU',\n  'de',\n  'MU',\n  'oa',\n  'VP',\n  'rj',\n  'yb',\n  'DN',\n  'end'),\n ('start',\n  'yb',\n  'DN',\n  'yb',\n  'DN',\n  'rj',\n  'VP',\n  'oa',\n  'MU',\n  'de',\n  'MU',\n  'jv',\n  'MU',\n  'vd',\n  'end')]"
     },
     "metadata": {},
     "output_type": "display_data"
    },
    {
     "data": {
      "text/plain": "136767"
     },
     "metadata": {},
     "output_type": "display_data"
    }
   ],
   "source": [
    "def visit_allowed(p, vertex_a, vertex_b, current_vertex):\n",
    "\n",
    "    if current_vertex == vertex_a:\n",
    "        destination = vertex_b\n",
    "    elif current_vertex == vertex_b:\n",
    "        destination = vertex_a\n",
    "    else:\n",
    "        return False  # Neither is connected\n",
    "\n",
    "    if destination.upper() == destination:  # Destionation is uppercase, unlimited visits allowed\n",
    "        return True\n",
    "\n",
    "    if destination == \"end\":\n",
    "        return True\n",
    "\n",
    "    if destination == \"start\":  # Return to start is not allowed\n",
    "        return False\n",
    "\n",
    "    c = Counter(p)\n",
    "    # print(c)\n",
    "    lower_case_counts = [count for key, count in c.most_common() if key.upper() != key]\n",
    "    # print(lower_case_counts)\n",
    "    # print(f\"Counting: {c} {max(lower_case_counts)}\")\n",
    "    return max(lower_case_counts) < 2 or destination not in path\n",
    "\n",
    "\n",
    "def visit_allowed_wrapper(p, vertex_a, vertex_b, current_vertex):\n",
    "    outcome = visit_allowed(p, vertex_a, vertex_b, current_vertex)\n",
    "    print(f\"{p}, edge({vertex_a} <=> {vertex_b}) {current_vertex} {outcome}\")\n",
    "    return outcome\n",
    "\n",
    "\n",
    "completed_paths = set()\n",
    "\n",
    "new_paths = set()\n",
    "new_paths.add((\"start\",),)\n",
    "while new_paths:\n",
    "    paths = new_paths.copy()\n",
    "    new_paths = set()\n",
    "    for path in paths:\n",
    "        current_location = path[-1]\n",
    "        relevant_edges = [(a, b) for (a, b) in edges if (a == path[-1] or b == path[-1]) and visit_allowed(path, a, b, current_location)]\n",
    "\n",
    "        if not relevant_edges:\n",
    "            # print(f\"No more relevant paths for {path}\")\n",
    "            continue\n",
    "\n",
    "        for (a, b) in relevant_edges:\n",
    "            if a == path[-1]:\n",
    "                if b == \"end\":\n",
    "                    completed_paths.add((*path, b))\n",
    "                else:\n",
    "                    new_paths.add((*path, b))\n",
    "\n",
    "            elif b == path[-1]:\n",
    "                if a == \"end\":\n",
    "                    completed_paths.add((*path, a))\n",
    "                else:\n",
    "                    new_paths.add((*path, a))\n",
    "            else:\n",
    "                raise ValueError()\n",
    "\n",
    "\n",
    "\n",
    "display(list(completed_paths)[:10])\n",
    "display(len(completed_paths))"
   ],
   "metadata": {
    "collapsed": false,
    "pycharm": {
     "name": "#%%\n"
    }
   }
  },
  {
   "cell_type": "code",
   "execution_count": null,
   "outputs": [],
   "source": [],
   "metadata": {
    "collapsed": false,
    "pycharm": {
     "name": "#%%\n"
    }
   }
  }
 ],
 "metadata": {
  "kernelspec": {
   "display_name": "Python 3",
   "language": "python",
   "name": "python3"
  },
  "language_info": {
   "codemirror_mode": {
    "name": "ipython",
    "version": 2
   },
   "file_extension": ".py",
   "mimetype": "text/x-python",
   "name": "python",
   "nbconvert_exporter": "python",
   "pygments_lexer": "ipython2",
   "version": "2.7.6"
  }
 },
 "nbformat": 4,
 "nbformat_minor": 0
}