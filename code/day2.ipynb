{
 "cells": [
  {
   "cell_type": "code",
   "execution_count": 1,
   "outputs": [],
   "source": [
    "from pathlib import Path"
   ],
   "metadata": {
    "collapsed": false,
    "pycharm": {
     "name": "#%%\n"
    }
   }
  },
  {
   "cell_type": "code",
   "execution_count": 2,
   "outputs": [],
   "source": [
    "input_no = \"02\""
   ],
   "metadata": {
    "collapsed": false,
    "pycharm": {
     "name": "#%%\n"
    }
   }
  },
  {
   "cell_type": "code",
   "execution_count": 3,
   "outputs": [],
   "source": [
    "input_file = Path(f\"../input_data/{input_no}\")"
   ],
   "metadata": {
    "collapsed": false,
    "pycharm": {
     "name": "#%%\n"
    }
   }
  },
  {
   "cell_type": "code",
   "execution_count": 5,
   "outputs": [
    {
     "data": {
      "text/plain": "[['forward', '5'],\n ['down', '8'],\n ['down', '6'],\n ['down', '7'],\n ['down', '8'],\n ['forward', '7'],\n ['down', '3'],\n ['up', '6'],\n ['forward', '6'],\n ['down', '2']]"
     },
     "execution_count": 5,
     "metadata": {},
     "output_type": "execute_result"
    }
   ],
   "source": [
    "lines = [line.split() for line in input_file.read_text().split(\"\\n\")]\n",
    "lines[:10]"
   ],
   "metadata": {
    "collapsed": false,
    "pycharm": {
     "name": "#%%\n"
    }
   }
  },
  {
   "cell_type": "code",
   "execution_count": 8,
   "outputs": [],
   "source": [
    "horizontal_position = 0\n",
    "depth = 0\n",
    "\n",
    "for (cmd, amount) in lines:\n",
    "    amount = int(amount)\n",
    "    if cmd == \"forward\":\n",
    "        horizontal_position += amount\n",
    "    elif cmd == \"down\":\n",
    "        depth += amount\n",
    "    elif cmd == \"up\":\n",
    "        depth -= amount\n",
    "    else:\n",
    "        raise ValueError()"
   ],
   "metadata": {
    "collapsed": false,
    "pycharm": {
     "name": "#%%\n"
    }
   }
  },
  {
   "cell_type": "code",
   "execution_count": 9,
   "outputs": [
    {
     "name": "stdout",
     "output_type": "stream",
     "text": [
      "1857\n",
      "894\n",
      "1660158\n"
     ]
    }
   ],
   "source": [
    "print(horizontal_position)\n",
    "print(depth)\n",
    "print(horizontal_position * depth)"
   ],
   "metadata": {
    "collapsed": false,
    "pycharm": {
     "name": "#%%\n"
    }
   }
  },
  {
   "cell_type": "code",
   "execution_count": null,
   "outputs": [],
   "source": [],
   "metadata": {
    "collapsed": false,
    "pycharm": {
     "name": "#%%\n"
    }
   }
  },
  {
   "cell_type": "code",
   "execution_count": 10,
   "outputs": [],
   "source": [
    "horizontal_position = 0\n",
    "depth = 0\n",
    "aim = 0\n",
    "for (cmd, amount) in lines:\n",
    "    amount = int(amount)\n",
    "    if cmd == \"forward\":\n",
    "        horizontal_position += amount\n",
    "        depth += aim * amount\n",
    "    elif cmd == \"down\":\n",
    "        aim += amount\n",
    "    elif cmd == \"up\":\n",
    "        aim -= amount\n",
    "    else:\n",
    "        raise ValueError()"
   ],
   "metadata": {
    "collapsed": false,
    "pycharm": {
     "name": "#%%\n"
    }
   }
  },
  {
   "cell_type": "code",
   "execution_count": 11,
   "outputs": [
    {
     "name": "stdout",
     "output_type": "stream",
     "text": [
      "1857\n",
      "864078\n",
      "1604592846\n"
     ]
    }
   ],
   "source": [
    "print(horizontal_position)\n",
    "print(depth)\n",
    "print(horizontal_position * depth)"
   ],
   "metadata": {
    "collapsed": false,
    "pycharm": {
     "name": "#%%\n"
    }
   }
  },
  {
   "cell_type": "code",
   "execution_count": null,
   "outputs": [],
   "source": [],
   "metadata": {
    "collapsed": false,
    "pycharm": {
     "name": "#%%\n"
    }
   }
  }
 ],
 "metadata": {
  "kernelspec": {
   "display_name": "Python 3",
   "language": "python",
   "name": "python3"
  },
  "language_info": {
   "codemirror_mode": {
    "name": "ipython",
    "version": 2
   },
   "file_extension": ".py",
   "mimetype": "text/x-python",
   "name": "python",
   "nbconvert_exporter": "python",
   "pygments_lexer": "ipython2",
   "version": "2.7.6"
  }
 },
 "nbformat": 4,
 "nbformat_minor": 0
}