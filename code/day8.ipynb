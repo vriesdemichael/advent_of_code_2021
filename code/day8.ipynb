{
 "cells": [
  {
   "cell_type": "code",
   "execution_count": 2,
   "metadata": {
    "collapsed": true
   },
   "outputs": [],
   "source": [
    "from collections import defaultdict\n",
    "from pathlib import Path\n",
    "\n",
    "input_data = Path(\"../input_data/08\").read_text()"
   ]
  },
  {
   "cell_type": "code",
   "execution_count": null,
   "outputs": [],
   "source": [
    "# {\n",
    "#     \"a\": [\"a\", \"b\", ...,  \"g\"],\n",
    "#     \"c\": [\"a\"],\n",
    "#     \"d\": [\"c\", \"f\"],\n",
    "#     \"f\": [\"c\", \"f\"],\n",
    "# }\n"
   ],
   "metadata": {
    "collapsed": false,
    "pycharm": {
     "name": "#%%\n"
    }
   }
  },
  {
   "cell_type": "markdown",
   "source": [
    "a -> g\n",
    "b -> b\n",
    "c -> a\n",
    "d -> f\n",
    "e -> e\n",
    "f -> c\n",
    "g -> d\n",
    "\n",
    "\n",
    "df (1)  -> (cf)(cf)\n",
    "c -> a (aan de hand van de 7)\n",
    "dcf (7) -> (cf)(a)(cf)\n",
    "gfbd (4)\n",
    "\n",
    "cadbg\n",
    "gaefc\n",
    "agdcf\n",
    "abcdeg (ontbreekt f)\n",
    "abcdfg (ontbreekt e)\n",
    "abcdef (ontbreekt g)\n",
    "\n",
    "(efg) -> cde\n",
    "| acgbd dafcg fd df\n",
    "\n",
    "een van de twee cijfers van 1 zit in alle cijfers van zes lang (6, 0, 9) (de f in 1 met default signal)\n",
    "hetzelfde met de b in alle cijfers van zes lang (6, 0, 9) die uit de 4 komt"
   ],
   "metadata": {
    "collapsed": false,
    "pycharm": {
     "name": "#%% md\n"
    }
   }
  },
  {
   "cell_type": "code",
   "execution_count": 3,
   "outputs": [],
   "source": [
    "default_display_signals = {\n",
    "    1: {          \"c\",           \"f\"     }, # f komt voor in alle #6\n",
    "\n",
    "    7: {\"a\",      \"c\",           \"f\"     }, # 7 - 1 = a\n",
    "\n",
    "    4: {     \"b\", \"c\", \"d\",      \"f\"     },  # 4 - 1 -> bd  b komt voor in alle #6\n",
    "                                             # g komt in alles van 6 voor\n",
    "                                             # e komt niet in alles van 6 voor\n",
    "\n",
    "    2: {\"a\",      \"c\", \"d\", \"e\",      \"g\"},  # Niet nodig\n",
    "    3: {\"a\",      \"c\", \"d\",      \"f\", \"g\"},  # Niet nodig\n",
    "    5: {\"a\", \"b\",      \"d\",      \"f\", \"g\"},  # Niet nodig\n",
    "\n",
    "    6: {\"a\", \"b\",      \"d\", \"e\", \"f\", \"g\"},\n",
    "    0: {\"a\", \"b\", \"c\",      \"e\", \"f\", \"g\"},\n",
    "    9: {\"a\", \"b\", \"c\", \"d\",      \"f\", \"g\"},\n",
    "\n",
    "    8: {\"a\", \"b\", \"c\", \"d\", \"e\", \"f\", \"g\"},\n",
    "}\n",
    "\n",
    "\n",
    "available_signals = {\"a\", \"b\", \"c\", \"d\", \"e\", \"f\", \"g\"}"
   ],
   "metadata": {
    "collapsed": false,
    "pycharm": {
     "name": "#%%\n"
    }
   }
  },
  {
   "cell_type": "code",
   "execution_count": 44,
   "outputs": [],
   "source": [
    "all_numbers = []\n",
    "for line in input_data.split(\"\\n\"):\n",
    "    signal_conversion_options = {sig: available_signals.copy() for sig in available_signals}\n",
    "    signals, outputs = line.split(\"|\")\n",
    "    signals_by_len = defaultdict(list)\n",
    "    for signal in signals.split():\n",
    "        signals_by_len[len(signal)].append(set(signal))\n",
    "\n",
    "    cf = signals_by_len[2][0]\n",
    "    cdf = signals_by_len[3][0]\n",
    "    bcdf = signals_by_len[4][0]\n",
    "\n",
    "    a = cdf - cf\n",
    "    bd = bcdf - cf\n",
    "\n",
    "    # Get the intersection of all signals of length 6\n",
    "    abcdefg = signals_by_len[7][0]  # The signal with len 7 has all signals\n",
    "    six_intersection = abcdefg.intersection(*signals_by_len[6])\n",
    "    abfg = six_intersection  # The six intersection contains abfg\n",
    "\n",
    "    # The b signal is in the 6 intersection\n",
    "    b = abfg & bd\n",
    "    d = bd - b\n",
    "\n",
    "    # The f signal is in the 6 intersection\n",
    "    f = six_intersection & cf\n",
    "    c = cf - f\n",
    "\n",
    "    # Just e and g left\n",
    "    eg = abcdefg - a - b - c - d - f\n",
    "    # g is in the 6 intersection\n",
    "    g = abfg & eg\n",
    "    e = eg - g\n",
    "\n",
    "\n",
    "    remap_to_default = {\n",
    "        a.pop(): \"a\",\n",
    "        b.pop(): \"b\",\n",
    "        c.pop(): \"c\",\n",
    "        d.pop(): \"d\",\n",
    "        e.pop(): \"e\",\n",
    "        f.pop(): \"f\",\n",
    "        g.pop(): \"g\"\n",
    "    }\n",
    "\n",
    "    numbers = []\n",
    "    for output_signal in outputs.split(\" \"):\n",
    "\n",
    "        remapped_signal = set(remap_to_default[x] for x in output_signal)\n",
    "        for number, dds in default_display_signals.items():\n",
    "            if dds == remapped_signal:\n",
    "                numbers.append(number)\n",
    "\n",
    "    all_numbers.append(numbers)"
   ],
   "metadata": {
    "collapsed": false,
    "pycharm": {
     "name": "#%%\n"
    }
   }
  },
  {
   "cell_type": "code",
   "execution_count": 46,
   "outputs": [
    {
     "data": {
      "text/plain": "[[5, 3, 1, 1],\n [1, 7, 3, 0],\n [8, 6, 8, 7],\n [4, 8, 4, 2],\n [5, 1, 5, 8],\n [4, 1, 0, 6],\n [8, 1, 8, 0],\n [7, 0, 1, 1],\n [7, 8, 2, 3],\n [1, 0, 1, 7]]"
     },
     "execution_count": 46,
     "metadata": {},
     "output_type": "execute_result"
    }
   ],
   "source": [
    "all_numbers[:10]"
   ],
   "metadata": {
    "collapsed": false,
    "pycharm": {
     "name": "#%%\n"
    }
   }
  },
  {
   "cell_type": "code",
   "execution_count": 47,
   "outputs": [
    {
     "data": {
      "text/plain": "Counter({5: 44,\n         3: 44,\n         1: 132,\n         7: 140,\n         0: 57,\n         8: 137,\n         6: 55,\n         4: 112,\n         2: 42,\n         9: 37})"
     },
     "execution_count": 47,
     "metadata": {},
     "output_type": "execute_result"
    }
   ],
   "source": [
    "from collections import Counter\n",
    "import itertools\n",
    "\n",
    "flat_number_list = list(itertools.chain(*all_numbers))\n",
    "c = Counter(flat_number_list)\n",
    "c"
   ],
   "metadata": {
    "collapsed": false,
    "pycharm": {
     "name": "#%%\n"
    }
   }
  },
  {
   "cell_type": "code",
   "execution_count": 49,
   "outputs": [
    {
     "data": {
      "text/plain": "521"
     },
     "execution_count": 49,
     "metadata": {},
     "output_type": "execute_result"
    }
   ],
   "source": [
    "# part one result\n",
    "c[1] + c[4] + c[7] + c[8]"
   ],
   "metadata": {
    "collapsed": false,
    "pycharm": {
     "name": "#%%\n"
    }
   }
  },
  {
   "cell_type": "code",
   "execution_count": 52,
   "outputs": [
    {
     "data": {
      "text/plain": "1016804"
     },
     "execution_count": 52,
     "metadata": {},
     "output_type": "execute_result"
    }
   ],
   "source": [
    "# part two result\n",
    "total_sum = 0\n",
    "for number_list in all_numbers:\n",
    "    concat_number = int(\"\".join(str(number) for number in number_list))\n",
    "    total_sum += concat_number\n",
    "\n",
    "total_sum"
   ],
   "metadata": {
    "collapsed": false,
    "pycharm": {
     "name": "#%%\n"
    }
   }
  },
  {
   "cell_type": "code",
   "execution_count": null,
   "outputs": [],
   "source": [],
   "metadata": {
    "collapsed": false,
    "pycharm": {
     "name": "#%%\n"
    }
   }
  }
 ],
 "metadata": {
  "kernelspec": {
   "display_name": "Python 3",
   "language": "python",
   "name": "python3"
  },
  "language_info": {
   "codemirror_mode": {
    "name": "ipython",
    "version": 2
   },
   "file_extension": ".py",
   "mimetype": "text/x-python",
   "name": "python",
   "nbconvert_exporter": "python",
   "pygments_lexer": "ipython2",
   "version": "2.7.6"
  }
 },
 "nbformat": 4,
 "nbformat_minor": 0
}