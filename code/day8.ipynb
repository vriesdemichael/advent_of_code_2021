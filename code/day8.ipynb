{
 "cells": [
  {
   "cell_type": "code",
   "execution_count": 1,
   "metadata": {
    "collapsed": true
   },
   "outputs": [],
   "source": [
    "from pathlib import Path\n",
    "\n",
    "input_data = Path(\"../input_data/08\").read_text()"
   ]
  },
  {
   "cell_type": "code",
   "execution_count": 6,
   "outputs": [],
   "source": [
    "default_display_signals = {\n",
    "    1: {          \"c\",           \"f\"     },\n",
    "\n",
    "    7: {\"a\",      \"c\",           \"f\"     },\n",
    "\n",
    "    4: {     \"b\", \"c\", \"d\",      \"f\"     },\n",
    "\n",
    "    2: {\"a\",      \"c\", \"d\", \"e\",      \"g\"},\n",
    "    3: {\"a\",      \"c\", \"d\",      \"f\", \"g\"},\n",
    "\n",
    "    5: {\"a\", \"b\",      \"d\",      \"f\", \"g\"},\n",
    "\n",
    "    6: {\"a\", \"b\",      \"d\", \"e\", \"f\", \"g\"},\n",
    "    0: {\"a\", \"b\", \"c\",      \"e\", \"f\", \"g\"},\n",
    "    9: {\"a\", \"b\", \"c\", \"d\",      \"f\", \"g\"},\n",
    "    8: {\"a\", \"b\", \"c\", \"d\", \"e\", \"f\", \"g\"},\n",
    "}\n",
    "\n",
    "\n",
    "available_signals = {\"a\", \"b\", \"c\", \"d\", \"e\", \"f\", \"g\"}"
   ],
   "metadata": {
    "collapsed": false,
    "pycharm": {
     "name": "#%%\n"
    }
   }
  },
  {
   "cell_type": "code",
   "execution_count": null,
   "outputs": [],
   "source": [
    "for line in input_data.split(\"\\n\"):\n",
    "    signal_conversion_options = {sig: available_signals.copy() for sig in available_signals}\n",
    "    signals, outputs = line.split(\"|\")\n",
    "\n",
    "    #"
   ],
   "metadata": {
    "collapsed": false,
    "pycharm": {
     "name": "#%%\n"
    }
   }
  },
  {
   "cell_type": "code",
   "execution_count": 20,
   "outputs": [
    {
     "name": "stdout",
     "output_type": "stream",
     "text": [
      "viable_default_signals=[{'c', 'f'}]\n"
     ]
    },
    {
     "data": {
      "text/plain": "{'c': {'a', 'b', 'c', 'd', 'e', 'f', 'g'},\n 'a': {'a', 'b', 'c', 'd', 'e', 'f', 'g'},\n 'd': {'c', 'f'},\n 'f': {'c', 'f'},\n 'e': {'a', 'b', 'c', 'd', 'e', 'f', 'g'},\n 'b': {'a', 'b', 'c', 'd', 'e', 'f', 'g'},\n 'g': {'a', 'b', 'c', 'd', 'e', 'f', 'g'}}"
     },
     "metadata": {},
     "output_type": "display_data"
    },
    {
     "name": "stdout",
     "output_type": "stream",
     "text": [
      "viable_default_signals=[{'c', 'a', 'f'}]\n"
     ]
    },
    {
     "data": {
      "text/plain": "{'c': {'a', 'c', 'f'},\n 'a': {'a', 'b', 'c', 'd', 'e', 'f', 'g'},\n 'd': {'c', 'f'},\n 'f': {'c', 'f'},\n 'e': {'a', 'b', 'c', 'd', 'e', 'f', 'g'},\n 'b': {'a', 'b', 'c', 'd', 'e', 'f', 'g'},\n 'g': {'a', 'b', 'c', 'd', 'e', 'f', 'g'}}"
     },
     "metadata": {},
     "output_type": "display_data"
    },
    {
     "name": "stdout",
     "output_type": "stream",
     "text": [
      "viable_default_signals=[{'c', 'd', 'b', 'f'}]\n"
     ]
    },
    {
     "data": {
      "text/plain": "{'c': {'a', 'c', 'f'},\n 'a': {'a', 'b', 'c', 'd', 'e', 'f', 'g'},\n 'd': {'c', 'f'},\n 'f': {'c', 'f'},\n 'e': {'a', 'b', 'c', 'd', 'e', 'f', 'g'},\n 'b': {'b', 'c', 'd', 'f'},\n 'g': {'b', 'c', 'd', 'f'}}"
     },
     "metadata": {},
     "output_type": "display_data"
    },
    {
     "name": "stdout",
     "output_type": "stream",
     "text": [
      "viable_default_signals=[{'c', 'a', 'd', 'e', 'g'}, {'c', 'a', 'd', 'f', 'g'}, {'a', 'd', 'f', 'b', 'g'}]\n"
     ]
    },
    {
     "data": {
      "text/plain": "{'c': {'a', 'c', 'f'},\n 'a': {'a', 'b', 'c', 'd', 'e', 'f', 'g'},\n 'd': {'c', 'f'},\n 'f': {'c', 'f'},\n 'e': {'a', 'b', 'c', 'd', 'e', 'f', 'g'},\n 'b': {'b', 'c', 'd', 'f'},\n 'g': {'b', 'c', 'd', 'f'}}"
     },
     "metadata": {},
     "output_type": "display_data"
    },
    {
     "name": "stdout",
     "output_type": "stream",
     "text": [
      "viable_default_signals=[{'c', 'a', 'd', 'e', 'g'}, {'c', 'a', 'd', 'f', 'g'}, {'a', 'd', 'f', 'b', 'g'}]\n"
     ]
    },
    {
     "data": {
      "text/plain": "{'c': {'a', 'c', 'f'},\n 'a': {'a', 'b', 'c', 'd', 'e', 'f', 'g'},\n 'd': {'c', 'f'},\n 'f': {'c', 'f'},\n 'e': {'a', 'b', 'c', 'd', 'e', 'f', 'g'},\n 'b': {'b', 'c', 'd', 'f'},\n 'g': {'b', 'c', 'd', 'f'}}"
     },
     "metadata": {},
     "output_type": "display_data"
    },
    {
     "name": "stdout",
     "output_type": "stream",
     "text": [
      "viable_default_signals=[{'c', 'a', 'd', 'e', 'g'}, {'c', 'a', 'd', 'f', 'g'}, {'a', 'd', 'f', 'b', 'g'}]\n"
     ]
    },
    {
     "data": {
      "text/plain": "{'c': {'a', 'c', 'f'},\n 'a': {'a', 'b', 'c', 'd', 'e', 'f', 'g'},\n 'd': {'c', 'f'},\n 'f': {'c', 'f'},\n 'e': {'a', 'b', 'c', 'd', 'e', 'f', 'g'},\n 'b': {'b', 'c', 'd', 'f'},\n 'g': {'b', 'c', 'd', 'f'}}"
     },
     "metadata": {},
     "output_type": "display_data"
    },
    {
     "name": "stdout",
     "output_type": "stream",
     "text": [
      "viable_default_signals=[{'c', 'a', 'f', 'e', 'b', 'g'}, {'a', 'd', 'f', 'e', 'b', 'g'}, {'c', 'a', 'd', 'f', 'b', 'g'}]\n"
     ]
    },
    {
     "data": {
      "text/plain": "{'c': {'a', 'c', 'f'},\n 'a': {'a', 'b', 'c', 'd', 'e', 'f', 'g'},\n 'd': {'c', 'f'},\n 'f': {'c', 'f'},\n 'e': {'a', 'b', 'c', 'd', 'e', 'f', 'g'},\n 'b': {'b', 'c', 'd', 'f'},\n 'g': {'b', 'c', 'd', 'f'}}"
     },
     "metadata": {},
     "output_type": "display_data"
    },
    {
     "name": "stdout",
     "output_type": "stream",
     "text": [
      "viable_default_signals=[{'c', 'a', 'f', 'e', 'b', 'g'}, {'a', 'd', 'f', 'e', 'b', 'g'}, {'c', 'a', 'd', 'f', 'b', 'g'}]\n"
     ]
    },
    {
     "data": {
      "text/plain": "{'c': {'a', 'c', 'f'},\n 'a': {'a', 'b', 'c', 'd', 'e', 'f', 'g'},\n 'd': {'c', 'f'},\n 'f': {'c', 'f'},\n 'e': {'a', 'b', 'c', 'd', 'e', 'f', 'g'},\n 'b': {'b', 'c', 'd', 'f'},\n 'g': {'b', 'c', 'd', 'f'}}"
     },
     "metadata": {},
     "output_type": "display_data"
    },
    {
     "name": "stdout",
     "output_type": "stream",
     "text": [
      "viable_default_signals=[{'c', 'a', 'f', 'e', 'b', 'g'}, {'a', 'd', 'f', 'e', 'b', 'g'}, {'c', 'a', 'd', 'f', 'b', 'g'}]\n"
     ]
    },
    {
     "data": {
      "text/plain": "{'c': {'a', 'c', 'f'},\n 'a': {'a', 'b', 'c', 'd', 'e', 'f', 'g'},\n 'd': {'c', 'f'},\n 'f': {'c', 'f'},\n 'e': {'a', 'b', 'c', 'd', 'e', 'f', 'g'},\n 'b': {'b', 'c', 'd', 'f'},\n 'g': {'b', 'c', 'd', 'f'}}"
     },
     "metadata": {},
     "output_type": "display_data"
    },
    {
     "name": "stdout",
     "output_type": "stream",
     "text": [
      "viable_default_signals=[{'c', 'a', 'd', 'f', 'e', 'b', 'g'}]\n"
     ]
    },
    {
     "data": {
      "text/plain": "{'c': {'a', 'c', 'f'},\n 'a': {'a', 'b', 'c', 'd', 'e', 'f', 'g'},\n 'd': {'c', 'f'},\n 'f': {'c', 'f'},\n 'e': {'a', 'b', 'c', 'd', 'e', 'f', 'g'},\n 'b': {'b', 'c', 'd', 'f'},\n 'g': {'b', 'c', 'd', 'f'}}"
     },
     "metadata": {},
     "output_type": "display_data"
    }
   ],
   "source": [
    "lines = [line for line in input_data.split(\"\\n\")]\n",
    "\n",
    "for line in input_data.split(\"\\n\"):\n",
    "    signal_conversion_options = {sig: available_signals.copy() for sig in available_signals}\n",
    "    signals, outputs = line.split(\"|\")\n",
    "\n",
    "\n",
    "    for signal in sorted(signals.split(), key=lambda x: len(x)):\n",
    "\n",
    "\n",
    "        signal_set = set(signal)\n",
    "\n",
    "        viable_default_signals = [v for v in default_display_signals.values() if len(v) == len(signal_set)]\n",
    "        print(f\"{viable_default_signals=}\")\n",
    "        all_options = set().union(*viable_default_signals)\n",
    "        for wire in signal:\n",
    "            signal_conversion_options[wire] &= all_options\n",
    "\n",
    "\n",
    "\n",
    "        display(signal_conversion_options)\n",
    "\n",
    "\n",
    "\n",
    "    break\n",
    "\n",
    "\n"
   ],
   "metadata": {
    "collapsed": false,
    "pycharm": {
     "name": "#%%\n"
    }
   }
  },
  {
   "cell_type": "code",
   "execution_count": null,
   "outputs": [],
   "source": [],
   "metadata": {
    "collapsed": false,
    "pycharm": {
     "name": "#%%\n"
    }
   }
  }
 ],
 "metadata": {
  "kernelspec": {
   "display_name": "Python 3",
   "language": "python",
   "name": "python3"
  },
  "language_info": {
   "codemirror_mode": {
    "name": "ipython",
    "version": 2
   },
   "file_extension": ".py",
   "mimetype": "text/x-python",
   "name": "python",
   "nbconvert_exporter": "python",
   "pygments_lexer": "ipython2",
   "version": "2.7.6"
  }
 },
 "nbformat": 4,
 "nbformat_minor": 0
}