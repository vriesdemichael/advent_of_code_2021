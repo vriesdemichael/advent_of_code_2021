{
 "cells": [
  {
   "cell_type": "code",
   "execution_count": 7,
   "metadata": {
    "collapsed": true
   },
   "outputs": [],
   "source": [
    "from pathlib import Path\n",
    "\n",
    "input_no = \"04\"\n",
    "input_file = Path(f\"../input_data/{input_no}\")"
   ]
  },
  {
   "cell_type": "code",
   "execution_count": 8,
   "outputs": [],
   "source": [
    "text = input_file.read_text()"
   ],
   "metadata": {
    "collapsed": false,
    "pycharm": {
     "name": "#%%\n"
    }
   }
  },
  {
   "cell_type": "code",
   "execution_count": 9,
   "outputs": [],
   "source": [
    "lines = text.split(\"\\n\")"
   ],
   "metadata": {
    "collapsed": false,
    "pycharm": {
     "name": "#%%\n"
    }
   }
  },
  {
   "cell_type": "code",
   "execution_count": 12,
   "outputs": [
    {
     "name": "stdout",
     "output_type": "stream",
     "text": [
      "100\n"
     ]
    },
    {
     "data": {
      "text/plain": "[46, 12, 57, 37, 14, 78, 31, 71, 87, 52]"
     },
     "execution_count": 12,
     "metadata": {},
     "output_type": "execute_result"
    }
   ],
   "source": [
    "bingo_numbers = [int(x) for x in lines[0].split(\",\")]\n",
    "print(len(bingo_numbers))\n",
    "bingo_numbers[:10]"
   ],
   "metadata": {
    "collapsed": false,
    "pycharm": {
     "name": "#%%\n"
    }
   }
  },
  {
   "cell_type": "code",
   "execution_count": 44,
   "outputs": [],
   "source": [
    "class BingoCard:\n",
    "    def __init__(self, card):\n",
    "        self.card = []\n",
    "        for card_x in card:\n",
    "            self.card.append([[x, False] for x in card_x])\n",
    "        self.finished = False\n",
    "\n",
    "    def check_card(self):\n",
    "        # horizontal\n",
    "        for card_x in self.card:\n",
    "            if all([x[1] for x in card_x]):\n",
    "                return True\n",
    "\n",
    "        for idx in range(5):\n",
    "            if all([card_x[idx][1] for card_x in self.card]):\n",
    "                return True\n",
    "        return False\n",
    "\n",
    "    def play_number(self, number):\n",
    "        for card_x in self.card:\n",
    "            for card_y in card_x:\n",
    "                if card_y[0] == number:\n",
    "                    card_y[1] = True\n",
    "\n",
    "        if self.check_card():\n",
    "            unmarked_sum = 0\n",
    "            for cards_x in self.card:\n",
    "                unmarked_sum += sum(x[0] for x in cards_x if not x[1])\n",
    "                self.finished = True\n",
    "            return unmarked_sum * number\n",
    "        else:\n",
    "            return -1\n"
   ],
   "metadata": {
    "collapsed": false,
    "pycharm": {
     "name": "#%%\n"
    }
   }
  },
  {
   "cell_type": "code",
   "execution_count": 45,
   "outputs": [],
   "source": [
    "def create_bingo_cards():\n",
    "    bingo_cards = []\n",
    "\n",
    "    current_card = []\n",
    "    for line in lines[2:]:\n",
    "        if not line:\n",
    "            bingo_cards.append(BingoCard(current_card))\n",
    "            current_card = []\n",
    "        else:\n",
    "            current_card.append([int(x) for x in line.split()])\n",
    "\n",
    "    if current_card:\n",
    "        bingo_cards.append(BingoCard(current_card))\n",
    "    return bingo_cards\n"
   ],
   "metadata": {
    "collapsed": false,
    "pycharm": {
     "name": "#%%\n"
    }
   }
  },
  {
   "cell_type": "code",
   "execution_count": 46,
   "outputs": [
    {
     "data": {
      "text/plain": "74320"
     },
     "execution_count": 46,
     "metadata": {},
     "output_type": "execute_result"
    }
   ],
   "source": [
    "def play_numbers():\n",
    "    for number in bingo_numbers:\n",
    "        for bingo_card in bingo_cards:\n",
    "            result = bingo_card.play_number(number)\n",
    "            if result > 0:\n",
    "                return result\n",
    "\n",
    "bingo_cards = create_bingo_cards()\n",
    "play_numbers()"
   ],
   "metadata": {
    "collapsed": false,
    "pycharm": {
     "name": "#%%\n"
    }
   }
  },
  {
   "cell_type": "code",
   "execution_count": 48,
   "outputs": [
    {
     "data": {
      "text/plain": "17884"
     },
     "execution_count": 48,
     "metadata": {},
     "output_type": "execute_result"
    }
   ],
   "source": [
    "def play_numbers_and_lose():\n",
    "    cards_won = 0\n",
    "    for number in bingo_numbers:\n",
    "        for bingo_card in bingo_cards:\n",
    "            if not bingo_card.finished:\n",
    "                result = bingo_card.play_number(number)\n",
    "                if result > 0:\n",
    "                    cards_won += 1\n",
    "\n",
    "                    if cards_won == len(bingo_cards):\n",
    "                        return result\n",
    "\n",
    "bingo_cards = create_bingo_cards()\n",
    "play_numbers_and_lose()"
   ],
   "metadata": {
    "collapsed": false,
    "pycharm": {
     "name": "#%%\n"
    }
   }
  },
  {
   "cell_type": "code",
   "execution_count": null,
   "outputs": [],
   "source": [],
   "metadata": {
    "collapsed": false,
    "pycharm": {
     "name": "#%%\n"
    }
   }
  }
 ],
 "metadata": {
  "kernelspec": {
   "display_name": "Python 3",
   "language": "python",
   "name": "python3"
  },
  "language_info": {
   "codemirror_mode": {
    "name": "ipython",
    "version": 2
   },
   "file_extension": ".py",
   "mimetype": "text/x-python",
   "name": "python",
   "nbconvert_exporter": "python",
   "pygments_lexer": "ipython2",
   "version": "2.7.6"
  }
 },
 "nbformat": 4,
 "nbformat_minor": 0
}