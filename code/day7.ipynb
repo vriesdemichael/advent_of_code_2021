{
 "cells": [
  {
   "cell_type": "code",
   "execution_count": 36,
   "metadata": {
    "collapsed": true
   },
   "outputs": [],
   "source": [
    "from pathlib import Path\n",
    "from collections import Counter\n",
    "\n",
    "import numpy as np\n",
    "input_data = Path(\"../input_data/07\").read_text()"
   ]
  },
  {
   "cell_type": "code",
   "execution_count": 37,
   "outputs": [],
   "source": [
    "# input_data = \"16,1,2,0,4,2,7,1,2,14\""
   ],
   "metadata": {
    "collapsed": false,
    "pycharm": {
     "name": "#%%\n"
    }
   }
  },
  {
   "cell_type": "code",
   "execution_count": 38,
   "outputs": [],
   "source": [
    "crab_positions = [int(x) for x in input_data.split(\",\")]"
   ],
   "metadata": {
    "collapsed": false,
    "pycharm": {
     "name": "#%%\n"
    }
   }
  },
  {
   "cell_type": "code",
   "execution_count": 41,
   "outputs": [],
   "source": [
    "median_target = round(np.median(crab_positions))\n",
    "mode_target = Counter(crab_positions).most_common()[0][1]\n",
    "mean_target = round(sum(crab_positions)/len(crab_positions))"
   ],
   "metadata": {
    "collapsed": false,
    "pycharm": {
     "name": "#%%\n"
    }
   }
  },
  {
   "cell_type": "code",
   "execution_count": 42,
   "outputs": [
    {
     "name": "stdout",
     "output_type": "stream",
     "text": [
      "364981\n",
      "347011\n",
      "455995\n"
     ]
    }
   ],
   "source": [
    "for target_position in [mean_target, median_target, mode_target]:\n",
    "    fuel_cost = sum([abs(target_position - pos) for pos in crab_positions])\n",
    "    print(fuel_cost)"
   ],
   "metadata": {
    "collapsed": false,
    "pycharm": {
     "name": "#%%\n"
    }
   }
  },
  {
   "cell_type": "code",
   "execution_count": 51,
   "outputs": [],
   "source": [
    "fuel_cost_dict = dict()\n",
    "for target_position in range(max(crab_positions)):\n",
    "    target_fuel_accumulated = 0\n",
    "    for crab_position in crab_positions:\n",
    "        distance = abs(crab_position - target_position)\n",
    "        # print(f\"{distance=}\")\n",
    "        fuel_cost = round(((1 + distance) / 2) * distance)\n",
    "        # print(f\"{fuel_cost=}\")\n",
    "        target_fuel_accumulated += fuel_cost\n",
    "\n",
    "    # break\n",
    "    fuel_cost_dict[target_position] = target_fuel_accumulated"
   ],
   "metadata": {
    "collapsed": false,
    "pycharm": {
     "name": "#%%\n"
    }
   }
  },
  {
   "cell_type": "code",
   "execution_count": 55,
   "outputs": [],
   "source": [
    "cheapest_position, fuel_cost = sorted(fuel_cost_dict.items(), key=lambda x: x[1])[0]"
   ],
   "metadata": {
    "collapsed": false,
    "pycharm": {
     "name": "#%%\n"
    }
   }
  },
  {
   "cell_type": "code",
   "execution_count": 56,
   "outputs": [
    {
     "data": {
      "text/plain": "98363777"
     },
     "execution_count": 56,
     "metadata": {},
     "output_type": "execute_result"
    }
   ],
   "source": [
    "fuel_cost"
   ],
   "metadata": {
    "collapsed": false,
    "pycharm": {
     "name": "#%%\n"
    }
   }
  },
  {
   "cell_type": "code",
   "execution_count": null,
   "outputs": [],
   "source": [],
   "metadata": {
    "collapsed": false,
    "pycharm": {
     "name": "#%%\n"
    }
   }
  }
 ],
 "metadata": {
  "kernelspec": {
   "display_name": "Python 3",
   "language": "python",
   "name": "python3"
  },
  "language_info": {
   "codemirror_mode": {
    "name": "ipython",
    "version": 2
   },
   "file_extension": ".py",
   "mimetype": "text/x-python",
   "name": "python",
   "nbconvert_exporter": "python",
   "pygments_lexer": "ipython2",
   "version": "2.7.6"
  }
 },
 "nbformat": 4,
 "nbformat_minor": 0
}