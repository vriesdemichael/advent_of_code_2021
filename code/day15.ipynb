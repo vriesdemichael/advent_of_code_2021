{
 "cells": [
  {
   "cell_type": "code",
   "execution_count": 2,
   "metadata": {},
   "outputs": [],
   "source": [
    "from pathlib import Path\n",
    "from typing import List\n",
    "\n",
    "import numpy as np\n",
    "from tqdm.notebook import tqdm\n",
    "\n",
    "import ipywidgets\n",
    "import matplotlib.pyplot as plt\n",
    "\n",
    "from heapq import heappush, heappop"
   ]
  },
  {
   "cell_type": "code",
   "execution_count": 3,
   "metadata": {
    "pycharm": {
     "name": "#%%\n"
    }
   },
   "outputs": [],
   "source": [
    "input_text = Path(\"../input_data/15\").read_text()"
   ]
  },
  {
   "cell_type": "code",
   "execution_count": 4,
   "metadata": {
    "pycharm": {
     "name": "#%%\n"
    }
   },
   "outputs": [
    {
     "data": {
      "text/plain": [
       "array([[1, 6, 3, ..., 3, 1, 3],\n",
       "       [9, 1, 8, ..., 4, 7, 3],\n",
       "       [4, 2, 1, ..., 4, 5, 4],\n",
       "       ...,\n",
       "       [4, 2, 8, ..., 7, 1, 2],\n",
       "       [9, 2, 5, ..., 9, 1, 6],\n",
       "       [4, 5, 1, ..., 9, 9, 1]])"
      ]
     },
     "metadata": {},
     "output_type": "display_data"
    },
    {
     "data": {
      "text/plain": [
       "(100, 100)"
      ]
     },
     "metadata": {},
     "output_type": "display_data"
    }
   ],
   "source": [
    "risk_map = np.array([[int(x) for x in line]for line in input_text.split()], dtype=\"int32\")\n",
    "display(risk_map)\n",
    "display(risk_map.shape)"
   ]
  },
  {
   "cell_type": "markdown",
   "metadata": {
    "pycharm": {
     "name": "#%% md\n"
    }
   },
   "source": [
    "A* functions\n",
    "g(n) : The actual cost path from the start node to the current node.\n",
    "h(n) : The actual cost path from the current node to goal node.\n",
    "f(n) : The actual cost path from the start node to the goal node."
   ]
  },
  {
   "cell_type": "code",
   "execution_count": 1,
   "metadata": {
    "pycharm": {
     "name": "#%%\n"
    }
   },
   "outputs": [],
   "source": [
    "class AStartNode:\n",
    "    def __init__(self, x, y, weight):\n",
    "        self.x = x\n",
    "        self.y = y\n",
    "        self.weight = weight\n",
    "        self.parent_node = None\n",
    "        self.h = None\n",
    "\n",
    "\n",
    "    @property\n",
    "    def g(self):\n",
    "        if self.parent_node:\n",
    "            return self.parent_node.g + self.weight\n",
    "        else:\n",
    "            return 0\n",
    "\n",
    "    @property\n",
    "    def f(self):\n",
    "        return self.h + self.g\n",
    "\n",
    "    @property\n",
    "    def coordinates(self):\n",
    "        return self.x, self.y\n",
    "\n",
    "    def __repr__(self):\n",
    "        return f\"<A* node: {self.coordinates} weight {self.g}>\"\n",
    "\n",
    "    def __lt__(self, other):\n",
    "        sum_self =  self.x + self.y\n",
    "        sum_other = other.x + other.y\n",
    "        if sum_self != sum_other:\n",
    "            return sum_self < sum_other\n",
    "        elif self.x != other.x:\n",
    "            return self.x < other.x\n",
    "        elif self.y != other.y:\n",
    "            return self.y < other.y\n"
   ]
  },
  {
   "cell_type": "code",
   "execution_count": 6,
   "metadata": {},
   "outputs": [],
   "source": [
    "def heuristic(current, goal):\n",
    "    current_x, current_y = current.coordinates\n",
    "    goal_x, goal_y = goal.coordinates\n",
    "    dx = abs(goal_x - current_x)\n",
    "    dy = abs(goal_y - current_y)\n",
    "\n",
    "    return (dx + dy) * 5"
   ]
  },
  {
   "cell_type": "code",
   "execution_count": 7,
   "metadata": {},
   "outputs": [],
   "source": [
    "all_nodes = []\n",
    "for x in range(100):\n",
    "    for y in range(100):\n",
    "        all_nodes.append(AStartNode(x, y, risk_map[x, y]))\n",
    "        \n",
    "goal = all_nodes[-1]\n",
    "for n in all_nodes:\n",
    "    n.goal = goal\n",
    "    n.h = heuristic(n, goal)\n",
    "\n",
    "# print(all_nodes)\n",
    "coordinates_to_node = {n.coordinates: n for n in all_nodes}\n",
    "# print(coordinates_to_node)\n",
    "parent_to_child_map = dict()\n",
    "for x in range(100):\n",
    "    for y in range(100):\n",
    "        adjacent_coordinates = [(i, j) for i, j in [\n",
    "            (x - 1, y),\n",
    "            (x + 1, y),\n",
    "            (x, y - 1),\n",
    "            (x, y + 1),\n",
    "        ] if 0<=i<100 and 0<=j<100]\n",
    "\n",
    "        children = [coordinates_to_node[ac] for ac in adjacent_coordinates]\n",
    "        parent_to_child_map[(x, y)] = children"
   ]
  },
  {
   "cell_type": "code",
   "execution_count": 8,
   "metadata": {},
   "outputs": [],
   "source": [
    "def visualize_nodes(default_output, current):\n",
    "    h_map = np.empty_like(risk_map)\n",
    "    for node in all_nodes:\n",
    "        if node.parent_node:\n",
    "            h_map[node.coordinates] = node.h\n",
    "        else:\n",
    "            h_map[node.coordinates] = - 1\n",
    "    \n",
    "    default_output.clear_output(wait=True)\n",
    "\n",
    "    total_path = []\n",
    "    track_path = current\n",
    "    while track_path.parent_node:\n",
    "        total_path.append(track_path)\n",
    "        track_path = track_path.parent_node\n",
    "    path_y = [t.coordinates[0] for t in total_path]\n",
    "    path_x = [t.coordinates[1] for t in total_path]\n",
    "\n",
    "    with default_output:\n",
    "        fig = plt.figure(figsize=(20, 20))\n",
    "        ax = fig.add_subplot(111)\n",
    "        cax = ax.matshow(h_map)\n",
    "        fig.colorbar(cax)\n",
    "        \n",
    "        ax.plot(path_x, path_y)\n",
    "        plt.show(fig)\n",
    "\n",
    "    "
   ]
  },
  {
   "cell_type": "code",
   "execution_count": null,
   "metadata": {
    "pycharm": {
     "name": "#%%\n"
    }
   },
   "outputs": [
    {
     "data": {
      "application/vnd.jupyter.widget-view+json": {
       "model_id": "80076da52f8a473eb6968b4ebc00b9f8",
       "version_major": 2,
       "version_minor": 0
      },
      "text/plain": [
       "Output()"
      ]
     },
     "metadata": {},
     "output_type": "display_data"
    },
    {
     "name": "stdout",
     "output_type": "stream",
     "text": [
      "<A* node: (99, 99) weight 0>\n",
      "<A* node: (99, 99) weight 0>\n",
      "<A* node: (99, 99) weight 0>\n",
      "<A* node: (99, 99) weight 0>\n",
      "<A* node: (99, 99) weight 0>\n",
      "<A* node: (99, 99) weight 0>\n",
      "<A* node: (99, 99) weight 0>\n",
      "<A* node: (99, 99) weight 0>\n",
      "<A* node: (99, 99) weight 0>\n",
      "<A* node: (99, 99) weight 0>\n",
      "<A* node: (99, 99) weight 0>\n",
      "<A* node: (99, 99) weight 0>\n",
      "<A* node: (99, 99) weight 0>\n",
      "<A* node: (99, 99) weight 0>\n",
      "<A* node: (99, 99) weight 0>\n",
      "<A* node: (99, 99) weight 0>\n",
      "<A* node: (99, 99) weight 0>\n",
      "<A* node: (99, 99) weight 0>\n",
      "<A* node: (99, 99) weight 0>\n",
      "<A* node: (99, 99) weight 0>\n",
      "<A* node: (99, 99) weight 0>\n",
      "<A* node: (99, 99) weight 0>\n",
      "<A* node: (99, 99) weight 0>\n",
      "<A* node: (99, 99) weight 0>\n",
      "<A* node: (99, 99) weight 0>\n",
      "<A* node: (99, 99) weight 0>\n",
      "<A* node: (99, 99) weight 0>\n",
      "<A* node: (99, 99) weight 0>\n",
      "<A* node: (99, 99) weight 0>\n",
      "<A* node: (99, 99) weight 0>\n",
      "<A* node: (99, 99) weight 0>\n",
      "<A* node: (99, 99) weight 0>\n",
      "<A* node: (99, 99) weight 0>\n",
      "<A* node: (99, 99) weight 0>\n",
      "<A* node: (99, 99) weight 0>\n",
      "<A* node: (99, 99) weight 0>\n",
      "<A* node: (99, 99) weight 0>\n",
      "<A* node: (99, 99) weight 0>\n",
      "<A* node: (99, 99) weight 0>\n",
      "<A* node: (99, 99) weight 0>\n",
      "<A* node: (99, 99) weight 0>\n",
      "<A* node: (99, 99) weight 0>\n",
      "<A* node: (99, 99) weight 0>\n",
      "<A* node: (99, 99) weight 0>\n",
      "<A* node: (99, 99) weight 0>\n",
      "<A* node: (99, 99) weight 0>\n",
      "<A* node: (99, 99) weight 0>\n",
      "<A* node: (99, 99) weight 0>\n",
      "<A* node: (99, 99) weight 0>\n",
      "<A* node: (99, 99) weight 0>\n",
      "<A* node: (99, 99) weight 0>\n",
      "<A* node: (99, 99) weight 0>\n",
      "<A* node: (99, 99) weight 0>\n",
      "<A* node: (99, 99) weight 0>\n",
      "<A* node: (99, 99) weight 0>\n",
      "<A* node: (99, 99) weight 0>\n",
      "<A* node: (99, 99) weight 0>\n",
      "<A* node: (99, 99) weight 0>\n",
      "<A* node: (99, 99) weight 0>\n",
      "<A* node: (99, 99) weight 0>\n",
      "<A* node: (99, 99) weight 0>\n",
      "<A* node: (99, 99) weight 0>\n",
      "<A* node: (99, 99) weight 0>\n",
      "<A* node: (99, 99) weight 0>\n",
      "<A* node: (99, 99) weight 0>\n",
      "<A* node: (99, 99) weight 0>\n",
      "<A* node: (99, 99) weight 0>\n",
      "<A* node: (99, 99) weight 0>\n",
      "<A* node: (99, 99) weight 0>\n",
      "<A* node: (99, 99) weight 0>\n",
      "<A* node: (99, 99) weight 0>\n",
      "<A* node: (99, 99) weight 0>\n",
      "<A* node: (99, 99) weight 0>\n",
      "<A* node: (99, 99) weight 0>\n",
      "<A* node: (99, 99) weight 0>\n",
      "<A* node: (99, 99) weight 0>\n",
      "<A* node: (99, 99) weight 0>\n",
      "<A* node: (99, 99) weight 0>\n",
      "<A* node: (99, 99) weight 0>\n",
      "<A* node: (99, 99) weight 0>\n",
      "<A* node: (99, 99) weight 0>\n",
      "<A* node: (99, 99) weight 0>\n",
      "<A* node: (99, 99) weight 0>\n",
      "<A* node: (99, 99) weight 0>\n",
      "<A* node: (99, 99) weight 0>\n",
      "<A* node: (99, 99) weight 0>\n",
      "<A* node: (99, 99) weight 0>\n",
      "<A* node: (99, 99) weight 0>\n",
      "<A* node: (99, 99) weight 0>\n",
      "<A* node: (99, 99) weight 0>\n",
      "<A* node: (99, 99) weight 0>\n",
      "<A* node: (99, 99) weight 0>\n",
      "<A* node: (99, 99) weight 0>\n",
      "<A* node: (99, 99) weight 0>\n",
      "<A* node: (99, 99) weight 0>\n",
      "<A* node: (99, 99) weight 0>\n",
      "<A* node: (99, 99) weight 0>\n",
      "<A* node: (99, 99) weight 0>\n",
      "<A* node: (99, 99) weight 0>\n",
      "<A* node: (99, 99) weight 0>\n",
      "<A* node: (99, 99) weight 0>\n"
     ]
    }
   ],
   "source": [
    "all_nodes = all_nodes # for completeness\n",
    "\n",
    "start = all_nodes[0]\n",
    "goal = all_nodes[-1]\n",
    "\n",
    "open_list = list()\n",
    "closed_list = set()\n",
    "heappush(open_list, (1, start))\n",
    "\n",
    "out = ipywidgets.Output()\n",
    "display(out)\n",
    "\n",
    "\n",
    "while open_list:\n",
    "    f, current = heappop(open_list)\n",
    "\n",
    "    if len(closed_list) % 1 == 0:\n",
    "        visualize_nodes(out, current)\n",
    "        print(goal)\n",
    "        \n",
    "\n",
    "    closed_list.add(current)\n",
    "    if current == goal:\n",
    "        visualize_nodes(out, current)\n",
    "        break  # Found shortest path\n",
    "\n",
    "    adjacent_to_current: List[AStartNode] = parent_to_child_map[current.coordinates]  # TODO determine child nodes\n",
    "    for adjacent in adjacent_to_current:\n",
    "        if adjacent in closed_list:\n",
    "            continue\n",
    "        else:\n",
    "            if not adjacent.parent_node or adjacent.parent_node and adjacent.parent_node.g > current.g:\n",
    "                adjacent.parent_node = current\n",
    "                heappush(open_list, (adjacent.f, adjacent))\n"
   ]
  },
  {
   "cell_type": "code",
   "execution_count": null,
   "metadata": {
    "pycharm": {
     "name": "#%%\n"
    }
   },
   "outputs": [],
   "source": [
    "goal"
   ]
  },
  {
   "cell_type": "code",
   "execution_count": null,
   "metadata": {
    "pycharm": {
     "name": "#%%\n"
    }
   },
   "outputs": [],
   "source": [
    "goal.f(goal)"
   ]
  },
  {
   "cell_type": "code",
   "execution_count": null,
   "metadata": {},
   "outputs": [],
   "source": [
    "# 388 \n",
    "total_path = []\n",
    "track_path = goal\n",
    "while track_path.parent_node:\n",
    "    total_path.append(track_path)\n",
    "    track_path = track_path.parent_node\n",
    "path_y = [t.coordinates[0] for t in total_path]\n",
    "path_x = [t.coordinates[1] for t in total_path]\n",
    "print(f\"{path_x=}\")\n",
    "print(f\"{path_y=}\")"
   ]
  },
  {
   "cell_type": "code",
   "execution_count": null,
   "metadata": {},
   "outputs": [],
   "source": [
    "print(f\"{list(zip(path_x, path_y))=}\")"
   ]
  },
  {
   "cell_type": "markdown",
   "metadata": {},
   "source": [
    "path_x=[99, 99, 99, 99, 99, 99, 99, 99, 99, 99, 98, 97, 96, 95, 95, 95, 94, 93, 92, 91, 90, 90, 89, 88, 87, 87, 87, 86, 85, 84, 83, 82, 82, 81, 81, 81, 81, 80, 80, 79, 78, 77, 76, 76, 75, 74, 74, 73, 72, 71, 70, 69, 69, 68, 67, 66, 65, 64, 64, 64, 63, 63, 62, 61, 60, 59, 59, 59, 59, 58, 58, 57, 57, 56, 56, 56, 55, 55, 54, 54, 54, 54, 54, 54, 53, 52, 51, 51, 51, 51, 50, 50, 49, 48, 48, 48, 47, 46, 45, 44, 44, 43, 42, 41, 40, 39, 39, 38, 37, 36, 35, 35, 34, 33, 33, 33, 33, 33, 33, 33, 33, 33, 33, 33, 33, 33, 33, 34, 35, 35, 35, 35, 35, 35, 35, 35, 35, 35, 35, 35, 35, 35, 35, 35, 35, 35, 35, 34, 34, 33, 33, 33, 33, 32, 31, 30, 29, 28, 27, 26, 26, 26, 26, 26, 25, 24, 24, 23, 22, 22, 21, 20, 20, 19, 19, 19, 19, 18, 18, 18, 17, 16, 15, 15, 14, 13, 12, 11, 10, 10, 9, 9, 8, 7, 7, 6, 5, 5, 5, 5, 5, 4, 3, 3, 2, 1, 1, 1]\n",
    "path_y=[99, 98, 97, 96, 95, 94, 93, 92, 91, 90, 90, 90, 90, 90, 89, 88, 88, 88, 88, 88, 88, 87, 87, 87, 87, 86, 85, 85, 85, 85, 85, 85, 84, 84, 83, 82, 81, 81, 80, 80, 80, 80, 80, 81, 81, 81, 80, 80, 80, 80, 80, 80, 81, 81, 81, 81, 81, 81, 80, 79, 79, 78, 78, 78, 78, 78, 77, 76, 75, 75, 74, 74, 73, 73, 72, 71, 71, 70, 70, 69, 68, 67, 66, 65, 65, 65, 65, 64, 63, 62, 62, 61, 61, 61, 60, 59, 59, 59, 59, 59, 58, 58, 58, 58, 58, 58, 57, 57, 57, 57, 57, 56, 56, 56, 55, 54, 53, 52, 51, 50, 49, 48, 47, 46, 45, 44, 43, 43, 43, 42, 41, 40, 39, 38, 37, 36, 35, 34, 33, 32, 31, 30, 29, 28, 27, 26, 25, 25, 24, 24, 23, 22, 21, 21, 21, 21, 21, 21, 21, 21, 20, 19, 18, 17, 17, 17, 16, 16, 16, 15, 15, 15, 14, 14, 13, 12, 11, 11, 10, 9, 9, 9, 9, 10, 10, 10, 10, 10, 10, 9, 9, 8, 8, 8, 7, 7, 7, 6, 5, 4, 3, 3, 3, 2, 2, 2, 1, 0]\n",
    "\n",
    "\n",
    "list(zip(path_x, path_y))=[(99, 99), (99, 98), (99, 97), (99, 96), (99, 95), (99, 94), (99, 93), (99, 92), (99, 91), (99, 90), (98, 90), (97, 90), (96, 90), (95, 90), (95, 89), (95, 88), (94, 88), (93, 88), (92, 88), (91, 88), (90, 88), (90, 87), (89, 87), (88, 87), (87, 87), (87, 86), (87, 85), (86, 85), (85, 85), (84, 85), (83, 85), (82, 85), (82, 84), (81, 84), (81, 83), (81, 82), (81, 81), (80, 81), (80, 80), (79, 80), (78, 80), (77, 80), (76, 80), (76, 81), (75, 81), (74, 81), (74, 80), (73, 80), (72, 80), (71, 80), (70, 80), (69, 80), (69, 81), (68, 81), (67, 81), (66, 81), (65, 81), (64, 81), (64, 80), (64, 79), (63, 79), (63, 78), (62, 78), (61, 78), (60, 78), (59, 78), (59, 77), (59, 76), (59, 75), (58, 75), (58, 74), (57, 74), (57, 73), (56, 73), (56, 72), (56, 71), (55, 71), (55, 70), (54, 70), (54, 69), (54, 68), (54, 67), (54, 66), (54, 65), (53, 65), (52, 65), (51, 65), (51, 64), (51, 63), (51, 62), (50, 62), (50, 61), (49, 61), (48, 61), (48, 60), (48, 59), (47, 59), (46, 59), (45, 59), (44, 59), (44, 58), (43, 58), (42, 58), (41, 58), (40, 58), (39, 58), (39, 57), (38, 57), (37, 57), (36, 57), (35, 57), (35, 56), (34, 56), (33, 56), (33, 55), (33, 54), (33, 53), (33, 52), (33, 51), (33, 50), (33, 49), (33, 48), (33, 47), (33, 46), (33, 45), (33, 44), (33, 43), (34, 43), (35, 43), (35, 42), (35, 41), (35, 40), (35, 39), (35, 38), (35, 37), (35, 36), (35, 35), (35, 34), (35, 33), (35, 32), (35, 31), (35, 30), (35, 29), (35, 28), (35, 27), (35, 26), (35, 25), (34, 25), (34, 24), (33, 24), (33, 23), (33, 22), (33, 21), (32, 21), (31, 21), (30, 21), (29, 21), (28, 21), (27, 21), (26, 21), (26, 20), (26, 19), (26, 18), (26, 17), (25, 17), (24, 17), (24, 16), (23, 16), (22, 16), (22, 15), (21, 15), (20, 15), (20, 14), (19, 14), (19, 13), (19, 12), (19, 11), (18, 11), (18, 10), (18, 9), (17, 9), (16, 9), (15, 9), (15, 10), (14, 10), (13, 10), (12, 10), (11, 10), (10, 10), (10, 9), (9, 9), (9, 8), (8, 8), (7, 8), (7, 7), (6, 7), (5, 7), (5, 6), (5, 5), (5, 4), (5, 3), (4, 3), (3, 3), (3, 2), (2, 2), (1, 2), (1, 1), (1, 0)]"
   ]
  },
  {
   "cell_type": "code",
   "execution_count": null,
   "metadata": {},
   "outputs": [],
   "source": []
  }
 ],
 "metadata": {
  "kernelspec": {
   "display_name": "Python 3 (ipykernel)",
   "language": "python",
   "name": "python3"
  },
  "language_info": {
   "codemirror_mode": {
    "name": "ipython",
    "version": 3
   },
   "file_extension": ".py",
   "mimetype": "text/x-python",
   "name": "python",
   "nbconvert_exporter": "python",
   "pygments_lexer": "ipython3",
   "version": "3.8.10"
  }
 },
 "nbformat": 4,
 "nbformat_minor": 1
}