{
 "cells": [
  {
   "cell_type": "code",
   "execution_count": 6,
   "metadata": {
    "collapsed": true
   },
   "outputs": [],
   "source": [
    "from collections import Counter\n",
    "from pathlib import Path\n",
    "input_no = \"03\"\n",
    "input_file = Path(f\"../input_data/{input_no}\")"
   ]
  },
  {
   "cell_type": "code",
   "execution_count": 18,
   "outputs": [],
   "source": [
    "lines = input_file.read_text().split(\"\\n\")\n",
    "n_bits = len(lines[0])"
   ],
   "metadata": {
    "collapsed": false,
    "pycharm": {
     "name": "#%%\n"
    }
   }
  },
  {
   "cell_type": "code",
   "execution_count": 12,
   "outputs": [
    {
     "name": "stdout",
     "output_type": "stream",
     "text": [
      "100111011000\n",
      "011000100111\n",
      "3969000\n"
     ]
    }
   ],
   "source": [
    "inverted = []\n",
    "for n in range(n_bits):\n",
    "    inverted_bitline = []\n",
    "    for line in lines:\n",
    "        inverted_bitline.append(line[n])\n",
    "    inverted.append(inverted_bitline)\n",
    "\n",
    "\n",
    "gamma = \"\"\n",
    "epsilon = \"\"\n",
    "for inv in inverted:\n",
    "    c = Counter(inv)\n",
    "    ((most_common, mc_amount), (least_common, lc_amount)) = c.most_common()\n",
    "    gamma += most_common\n",
    "    epsilon += least_common\n",
    "\n",
    "print(gamma)\n",
    "gamma_dec = (int(gamma, 2))\n",
    "print(epsilon)\n",
    "epsilon_dec = (int(epsilon, 2))\n",
    "\n",
    "print(gamma_dec * epsilon_dec)"
   ],
   "metadata": {
    "collapsed": false,
    "pycharm": {
     "name": "#%%\n"
    }
   }
  },
  {
   "cell_type": "code",
   "execution_count": 19,
   "outputs": [
    {
     "name": "stdout",
     "output_type": "stream",
     "text": [
      "510 left after the 1 bit\n",
      "257 left after the 2 bit\n",
      "129 left after the 3 bit\n",
      "66 left after the 4 bit\n",
      "35 left after the 5 bit\n",
      "22 left after the 6 bit\n",
      "13 left after the 7 bit\n",
      "8 left after the 8 bit\n",
      "4 left after the 9 bit\n",
      "2 left after the 10 bit\n",
      "2 left after the 11 bit\n",
      "1 left after the 12 bit\n",
      "['100111001101']\n"
     ]
    }
   ],
   "source": [
    "lines_oxygen = [line for line in lines]\n",
    "for idx in range(n_bits):\n",
    "    relevant_bits = [l[idx] for l in lines_oxygen]\n",
    "    c = Counter(relevant_bits)\n",
    "\n",
    "    if c[\"0\"] > c[\"1\"]:\n",
    "        most_common_bit = str(0)\n",
    "    else:\n",
    "        most_common_bit = str(1)\n",
    "\n",
    "    lines_oxygen = [l for l in lines_oxygen if l[idx] == most_common_bit]\n",
    "    print(f\"{len(lines_oxygen)} left after the {idx + 1 } bit\")\n",
    "print(lines_oxygen)\n"
   ],
   "metadata": {
    "collapsed": false,
    "pycharm": {
     "name": "#%%\n"
    }
   }
  },
  {
   "cell_type": "code",
   "execution_count": 23,
   "outputs": [
    {
     "name": "stdout",
     "output_type": "stream",
     "text": [
      "490 left after the 1 bit\n",
      "234 left after the 2 bit\n",
      "116 left after the 3 bit\n",
      "51 left after the 4 bit\n",
      "25 left after the 5 bit\n",
      "8 left after the 6 bit\n",
      "2 left after the 7 bit\n",
      "1 left after the 8 bit\n",
      "['011010100101']\n"
     ]
    }
   ],
   "source": [
    "lines_co2 = [line for line in lines]\n",
    "\n",
    "for idx in range(n_bits):\n",
    "    relevant_bits = [l[idx] for l in lines_co2]\n",
    "    c = Counter(relevant_bits)\n",
    "\n",
    "    if c[\"1\"] < c[\"0\"]:\n",
    "        least_common_bit = str(1)\n",
    "    else:\n",
    "        least_common_bit = str(0)\n",
    "\n",
    "    lines_co2 = [l for l in lines_co2 if l[idx] == least_common_bit]\n",
    "    print(f\"{len(lines_co2)} left after the {idx + 1 } bit\")\n",
    "    if len(lines_co2) == 1:\n",
    "        break\n",
    "print(lines_co2)"
   ],
   "metadata": {
    "collapsed": false,
    "pycharm": {
     "name": "#%%\n"
    }
   }
  },
  {
   "cell_type": "code",
   "execution_count": 24,
   "outputs": [
    {
     "data": {
      "text/plain": "4267809"
     },
     "execution_count": 24,
     "metadata": {},
     "output_type": "execute_result"
    }
   ],
   "source": [
    "int(lines_oxygen[0], 2) * int(lines_co2[0], 2)"
   ],
   "metadata": {
    "collapsed": false,
    "pycharm": {
     "name": "#%%\n"
    }
   }
  },
  {
   "cell_type": "code",
   "execution_count": null,
   "outputs": [],
   "source": [],
   "metadata": {
    "collapsed": false,
    "pycharm": {
     "name": "#%%\n"
    }
   }
  }
 ],
 "metadata": {
  "kernelspec": {
   "display_name": "Python 3",
   "language": "python",
   "name": "python3"
  },
  "language_info": {
   "codemirror_mode": {
    "name": "ipython",
    "version": 2
   },
   "file_extension": ".py",
   "mimetype": "text/x-python",
   "name": "python",
   "nbconvert_exporter": "python",
   "pygments_lexer": "ipython2",
   "version": "2.7.6"
  }
 },
 "nbformat": 4,
 "nbformat_minor": 0
}