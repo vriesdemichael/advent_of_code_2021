{
 "cells": [
  {
   "cell_type": "code",
   "execution_count": 1,
   "metadata": {
    "collapsed": true
   },
   "outputs": [],
   "source": [
    "from pathlib import Path\n",
    "\n",
    "input_no = \"06\"\n",
    "input_file = Path(f\"../input_data/{input_no}\")"
   ]
  },
  {
   "cell_type": "code",
   "execution_count": 2,
   "outputs": [],
   "source": [
    "lantern_fish_reset_value = 6\n",
    "newborn_latern_fish_value = 8"
   ],
   "metadata": {
    "collapsed": false,
    "pycharm": {
     "name": "#%%\n"
    }
   }
  },
  {
   "cell_type": "code",
   "execution_count": 5,
   "outputs": [
    {
     "data": {
      "text/plain": "[1, 1, 1, 1, 3, 1, 4, 1, 4, 1]"
     },
     "metadata": {},
     "output_type": "display_data"
    },
    {
     "data": {
      "text/plain": "300"
     },
     "metadata": {},
     "output_type": "display_data"
    }
   ],
   "source": [
    "fishes = [int(x) for x in input_file.read_text().split(\",\")]\n",
    "display(fishes[:10])\n",
    "display(len(fishes))"
   ],
   "metadata": {
    "collapsed": false,
    "pycharm": {
     "name": "#%%\n"
    }
   }
  },
  {
   "cell_type": "code",
   "execution_count": null,
   "outputs": [],
   "source": [],
   "metadata": {
    "collapsed": false,
    "pycharm": {
     "name": "#%%\n"
    }
   }
  },
  {
   "cell_type": "code",
   "execution_count": 6,
   "outputs": [],
   "source": [
    "def simulate_day(fishy_list):\n",
    "    for fish in fishy_list:\n",
    "        if fish == 0:\n",
    "            yield 6\n",
    "            yield 8\n",
    "        if fish > 0:\n",
    "            yield fish - 1"
   ],
   "metadata": {
    "collapsed": false,
    "pycharm": {
     "name": "#%%\n"
    }
   }
  },
  {
   "cell_type": "code",
   "execution_count": 16,
   "outputs": [
    {
     "data": {
      "text/plain": "  0%|          | 0/80 [00:00<?, ?it/s]",
      "application/vnd.jupyter.widget-view+json": {
       "version_major": 2,
       "version_minor": 0,
       "model_id": "2cb61e4c2a8b47888b6ad053672f3b5c"
      }
     },
     "metadata": {},
     "output_type": "display_data"
    },
    {
     "name": "stdout",
     "output_type": "stream",
     "text": [
      "388419\n"
     ]
    }
   ],
   "source": [
    "from tqdm.notebook import tqdm\n",
    "new_fishes = [x for x in fishes]\n",
    "\n",
    "for _ in tqdm(range(80)):\n",
    "    new_fishes = list(simulate_day(new_fishes))\n",
    "\n",
    "print(len(new_fishes))"
   ],
   "metadata": {
    "collapsed": false,
    "pycharm": {
     "name": "#%%\n"
    }
   }
  },
  {
   "cell_type": "code",
   "execution_count": 36,
   "outputs": [],
   "source": [
    "def simulate_counted(fish_book):\n",
    "    return {\n",
    "        0: fish_book[1],\n",
    "        1: fish_book[2],\n",
    "        2: fish_book[3],\n",
    "        3: fish_book[4],\n",
    "        4: fish_book[5],\n",
    "        5: fish_book[6],\n",
    "        6: fish_book[7] + fish_book[0],\n",
    "        7: fish_book[8],\n",
    "        8: fish_book[0],\n",
    "    }\n"
   ],
   "metadata": {
    "collapsed": false,
    "pycharm": {
     "name": "#%%\n"
    }
   }
  },
  {
   "cell_type": "code",
   "execution_count": 39,
   "outputs": [
    {
     "name": "stdout",
     "output_type": "stream",
     "text": [
      "{0: 146206613618, 1: 179702693822, 2: 186462311535, 3: 199000604384, 4: 237138294070, 5: 224003964731, 6: 290215232568, 7: 119644581976, 8: 158075181624}\n",
      "1740449478328\n"
     ]
    }
   ],
   "source": [
    "from collections import Counter\n",
    "fish_book = dict(Counter(fishes))\n",
    "fish_book[0] = 0\n",
    "fish_book[6] = 0\n",
    "fish_book[7] = 0\n",
    "fish_book[8] = 0\n",
    "\n",
    "\n",
    "for _ in range(256):\n",
    "    fish_book = simulate_counted(fish_book)\n",
    "\n",
    "print(fish_book)\n",
    "print(sum(fish_book.values()))"
   ],
   "metadata": {
    "collapsed": false,
    "pycharm": {
     "name": "#%%\n"
    }
   }
  },
  {
   "cell_type": "code",
   "execution_count": 25,
   "outputs": [],
   "source": [],
   "metadata": {
    "collapsed": false,
    "pycharm": {
     "name": "#%%\n"
    }
   }
  },
  {
   "cell_type": "code",
   "execution_count": 24,
   "outputs": [],
   "source": [],
   "metadata": {
    "collapsed": false,
    "pycharm": {
     "name": "#%%\n"
    }
   }
  },
  {
   "cell_type": "code",
   "execution_count": null,
   "outputs": [],
   "source": [],
   "metadata": {
    "collapsed": false,
    "pycharm": {
     "name": "#%%\n"
    }
   }
  }
 ],
 "metadata": {
  "kernelspec": {
   "display_name": "Python 3",
   "language": "python",
   "name": "python3"
  },
  "language_info": {
   "codemirror_mode": {
    "name": "ipython",
    "version": 2
   },
   "file_extension": ".py",
   "mimetype": "text/x-python",
   "name": "python",
   "nbconvert_exporter": "python",
   "pygments_lexer": "ipython2",
   "version": "2.7.6"
  }
 },
 "nbformat": 4,
 "nbformat_minor": 0
}