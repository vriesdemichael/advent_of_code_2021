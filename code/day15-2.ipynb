{
 "cells": [
  {
   "cell_type": "code",
   "execution_count": 1,
   "id": "060cf62f",
   "metadata": {},
   "outputs": [
    {
     "name": "stderr",
     "output_type": "stream",
     "text": [
      "WARNING: You are using pip version 21.1.2; however, version 21.3.1 is available.\n",
      "You should consider upgrading via the 'C:\\Users\\vries\\PycharmProjects\\advent_of_code_2021\\venv\\Scripts\\python.exe -m pip install --upgrade pip' command.\n"
     ]
    }
   ],
   "source": [
    "!pip install ipywidgets tqdm matplotlib numpy --quiet"
   ]
  },
  {
   "cell_type": "code",
   "execution_count": 18,
   "id": "fbb8838d",
   "metadata": {},
   "outputs": [],
   "source": [
    "from pathlib import Path\n",
    "from typing import List\n",
    "\n",
    "import numpy as np\n",
    "from tqdm.notebook import tqdm\n",
    "\n",
    "import time \n",
    "\n",
    "import ipywidgets\n",
    "import matplotlib.pyplot as plt\n",
    "\n",
    "from heapq import heappush, heappop\n",
    "from functools import lru_cache"
   ]
  },
  {
   "cell_type": "code",
   "execution_count": 19,
   "id": "e54896e2",
   "metadata": {},
   "outputs": [],
   "source": [
    "input_text = Path(\"../input_data/15\").read_text()"
   ]
  },
  {
   "cell_type": "code",
   "execution_count": 32,
   "id": "3c22512b",
   "metadata": {},
   "outputs": [
    {
     "data": {
      "text/plain": [
       "array([[1, 6, 3, ..., 3, 1, 3],\n",
       "       [9, 1, 8, ..., 4, 7, 3],\n",
       "       [4, 2, 1, ..., 4, 5, 4],\n",
       "       ...,\n",
       "       [4, 2, 8, ..., 7, 1, 2],\n",
       "       [9, 2, 5, ..., 9, 1, 6],\n",
       "       [4, 5, 1, ..., 9, 9, 1]], dtype=int8)"
      ]
     },
     "metadata": {},
     "output_type": "display_data"
    },
    {
     "data": {
      "text/plain": [
       "(100, 100)"
      ]
     },
     "metadata": {},
     "output_type": "display_data"
    }
   ],
   "source": [
    "risk_map = np.array([[int(x) for x in line]for line in input_text.split()], dtype=\"int8\")\n",
    "display(risk_map)\n",
    "display(risk_map.shape)"
   ]
  },
  {
   "cell_type": "code",
   "execution_count": 38,
   "id": "7aea0e58",
   "metadata": {},
   "outputs": [
    {
     "data": {
      "text/plain": [
       "array([[0, 6, 3, ..., 7, 5, 7],\n",
       "       [9, 1, 8, ..., 8, 2, 7],\n",
       "       [4, 2, 1, ..., 8, 9, 8],\n",
       "       ...,\n",
       "       [8, 6, 3, ..., 6, 9, 1],\n",
       "       [4, 6, 9, ..., 8, 9, 5],\n",
       "       [8, 9, 5, ..., 8, 8, 9]])"
      ]
     },
     "metadata": {},
     "output_type": "display_data"
    },
    {
     "data": {
      "text/plain": [
       "(500, 500)"
      ]
     },
     "metadata": {},
     "output_type": "display_data"
    }
   ],
   "source": [
    "n_times_bigger = 5  # 1 for part 1, 5 for part 2, more for fun :)\n",
    "\n",
    "risk_map_complete = np.empty((risk_map.shape[0] * n_times_bigger, risk_map.shape[1] * n_times_bigger), dtype=\"int32\")\n",
    "for x in range(risk_map_complete.shape[0]):\n",
    "    for y in range(risk_map_complete.shape[1]):\n",
    "        mx = int(x / risk_map.shape[0])\n",
    "        rx = x % risk_map.shape[0]\n",
    "        my = int(y / risk_map.shape[1])\n",
    "        ry = y % risk_map.shape[1]\n",
    "        \n",
    "\n",
    "        weight = (risk_map[rx, ry])\n",
    "        for _ in range(mx + my):\n",
    "            weight += 1\n",
    "            if weight == 10:\n",
    "                weight = 1        \n",
    "        risk_map_complete[x, y] = weight\n",
    "        \n",
    "risk_map_complete[0, 0] = 0\n",
    "display(risk_map_complete)\n",
    "display(risk_map_complete.shape)"
   ]
  },
  {
   "cell_type": "code",
   "execution_count": 39,
   "id": "e9cc021b",
   "metadata": {},
   "outputs": [],
   "source": [
    "class DijkstraNode:\n",
    "    def __init__(self, x, y, weight):\n",
    "        self.x = x\n",
    "        self.y = y\n",
    "        self.weight = weight\n",
    "        self.parent = None\n",
    "        self.distance = np.inf\n",
    "\n",
    "    @property\n",
    "    def coordinates(self):\n",
    "        return self.x, self.y\n",
    "\n",
    "\n",
    "    def __repr__(self):\n",
    "        return f\"<Dijkstra* node: {self.coordinates} weight {self.weight} distance {self.distance}>\"\n",
    "\n",
    "    \n",
    "    def __lt__(self, other):\n",
    "        sum_self =  self.x + self.y\n",
    "        sum_other = other.x + other.y\n",
    "        if sum_self != sum_other:\n",
    "            return sum_self < sum_other\n",
    "        elif self.x != other.x:\n",
    "            return self.x < other.x\n",
    "        elif self.y != other.y:\n",
    "            return self.y < other.y\n",
    "        "
   ]
  },
  {
   "cell_type": "code",
   "execution_count": 40,
   "id": "158c3ef8",
   "metadata": {},
   "outputs": [],
   "source": [
    "def visualize_nodes(default_output, current, while_time=None):\n",
    "    h_map = np.zeros(risk_map_complete.shape, dtype=\"int32\")\n",
    "    \n",
    "    vis_time_start = time.perf_counter()\n",
    "    \n",
    "    for node in visited:\n",
    "        h_map[node.coordinates] = node.distance       \n",
    "    \n",
    "    default_output.clear_output(wait=True)\n",
    "    \n",
    "    with default_output:\n",
    "        fig = plt.figure(figsize=(20, 20))\n",
    "        ax = fig.add_subplot(111)\n",
    "        cax = ax.matshow(h_map)\n",
    "        fig.colorbar(cax)\n",
    "\n",
    "        plt.show(fig)\n",
    "      \n",
    "        vis_time = time.perf_counter() - vis_time_start\n",
    "        if while_times:\n",
    "            while_time = sum(while_times) - max(while_times)\n",
    "            print(f\"While time = {while_time:.3f}s\")\n",
    "        print(f\"vis time = {vis_time:.3f}s\")\n",
    "        print(current.distance)\n",
    "\n",
    "\n",
    "    "
   ]
  },
  {
   "cell_type": "code",
   "execution_count": 41,
   "id": "1ee641ed",
   "metadata": {},
   "outputs": [],
   "source": [
    "all_nodes = []\n",
    "for x in range(risk_map_complete.shape[0]):\n",
    "    for y in range(risk_map_complete.shape[1]):\n",
    "        all_nodes.append(DijkstraNode(x, y, risk_map_complete[x, y]))\n",
    "        \n",
    "\n",
    "coordinates_to_node = {n.coordinates: n for n in all_nodes}\n",
    "parent_to_child_map = dict()\n",
    "for x in range(risk_map_complete.shape[0]):\n",
    "    for y in range(risk_map_complete.shape[1]):\n",
    "        adjacent_coordinates = [(i, j) for i, j in [\n",
    "            (x - 1, y),\n",
    "            (x + 1, y),\n",
    "            (x, y - 1),\n",
    "            (x, y + 1),\n",
    "        ] if 0<=i<risk_map_complete.shape[0] and 0<=j<risk_map_complete.shape[1]]\n",
    "\n",
    "        children = [coordinates_to_node[ac] for ac in adjacent_coordinates]\n",
    "        parent_to_child_map[(x, y)] = children"
   ]
  },
  {
   "cell_type": "code",
   "execution_count": 42,
   "id": "edb6ad14",
   "metadata": {},
   "outputs": [
    {
     "data": {
      "application/vnd.jupyter.widget-view+json": {
       "model_id": "50a66ffd9fed4eb98b57e1e48f638b59",
       "version_major": 2,
       "version_minor": 0
      },
      "text/plain": [
       "Output()"
      ]
     },
     "metadata": {},
     "output_type": "display_data"
    },
    {
     "data": {
      "text/plain": [
       "<Dijkstra* node: (499, 499) weight 9 distance 2819>"
      ]
     },
     "metadata": {},
     "output_type": "display_data"
    }
   ],
   "source": [
    "\n",
    "# dijkstras again.. sigh\n",
    "\n",
    "all_nodes = all_nodes # for completeness\n",
    "\n",
    "start = all_nodes[0]\n",
    "start.distance = 0\n",
    "goal = all_nodes[-1]\n",
    "\n",
    "visited = set()\n",
    "open_list = list()\n",
    "\n",
    "heappush(open_list, (start.distance, start))\n",
    "\n",
    "out = ipywidgets.Output()\n",
    "display(out)\n",
    "\n",
    "previous_time = time.perf_counter()\n",
    "while_times = []\n",
    "idx = 0\n",
    "while open_list:\n",
    "    current_time = time.perf_counter()\n",
    "    while_time = current_time - previous_time\n",
    "    while_times.append(while_time)\n",
    "    previous_time = current_time\n",
    "    \n",
    "    distance, current = heappop(open_list)\n",
    "    visited.add(current)\n",
    "        \n",
    "    if (idx:= idx + 1) % 10000 == 0:\n",
    "        visualize_nodes(out, current, while_time=while_times)\n",
    "        while_times = []\n",
    "        \n",
    "    \n",
    "    if current == goal:\n",
    "        visualize_nodes(out, current, while_times)\n",
    "        display(goal)\n",
    "        break  # Found shortest path\n",
    "\n",
    "    for adjacent in parent_to_child_map[current.coordinates]:\n",
    "        if adjacent in visited:\n",
    "            continue\n",
    "        tentative_distance = current.distance + adjacent.weight\n",
    "        if tentative_distance < adjacent.distance:\n",
    "            adjacent.distance = tentative_distance\n",
    "            heappush(open_list, (adjacent.distance, adjacent))   "
   ]
  },
  {
   "cell_type": "code",
   "execution_count": 43,
   "id": "ba3b6959",
   "metadata": {},
   "outputs": [
    {
     "data": {
      "text/plain": [
       "<Dijkstra* node: (499, 499) weight 9 distance 2819>"
      ]
     },
     "execution_count": 43,
     "metadata": {},
     "output_type": "execute_result"
    }
   ],
   "source": [
    "goal"
   ]
  },
  {
   "cell_type": "code",
   "execution_count": null,
   "id": "88467e67",
   "metadata": {},
   "outputs": [],
   "source": []
  },
  {
   "cell_type": "code",
   "execution_count": null,
   "id": "f7005a14",
   "metadata": {},
   "outputs": [],
   "source": []
  },
  {
   "cell_type": "code",
   "execution_count": null,
   "id": "1a3d17ad",
   "metadata": {},
   "outputs": [],
   "source": []
  }
 ],
 "metadata": {
  "kernelspec": {
   "display_name": "Python 3 (ipykernel)",
   "language": "python",
   "name": "python3"
  },
  "language_info": {
   "codemirror_mode": {
    "name": "ipython",
    "version": 3
   },
   "file_extension": ".py",
   "mimetype": "text/x-python",
   "name": "python",
   "nbconvert_exporter": "python",
   "pygments_lexer": "ipython3",
   "version": "3.8.10"
  }
 },
 "nbformat": 4,
 "nbformat_minor": 5
}