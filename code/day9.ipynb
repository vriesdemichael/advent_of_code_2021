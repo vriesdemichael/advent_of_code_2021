{
 "cells": [
  {
   "cell_type": "code",
   "execution_count": 1,
   "metadata": {
    "collapsed": true
   },
   "outputs": [],
   "source": [
    "from pathlib import Path\n",
    "import numpy as np\n",
    "import matplotlib.pyplot as plt\n",
    "\n",
    "\n",
    "input_data = Path(\"../input_data/09\").read_text()"
   ]
  },
  {
   "cell_type": "code",
   "execution_count": 2,
   "outputs": [],
   "source": [
    "height_matrix_as_lists = [[int(x) for x in row] for row in input_data.split(\"\\n\")]"
   ],
   "metadata": {
    "collapsed": false,
    "pycharm": {
     "name": "#%%\n"
    }
   }
  },
  {
   "cell_type": "code",
   "execution_count": 3,
   "outputs": [],
   "source": [
    "height_matrix = np.array(height_matrix_as_lists)"
   ],
   "metadata": {
    "collapsed": false,
    "pycharm": {
     "name": "#%%\n"
    }
   }
  },
  {
   "cell_type": "code",
   "execution_count": 4,
   "outputs": [
    {
     "data": {
      "text/plain": "array([[3, 5, 6, ..., 9, 2, 1],\n       [2, 4, 5, ..., 5, 3, 0],\n       [0, 1, 9, ..., 9, 9, 1],\n       ...,\n       [3, 4, 9, ..., 8, 9, 9],\n       [6, 5, 6, ..., 6, 7, 8],\n       [9, 7, 9, ..., 7, 8, 9]])"
     },
     "metadata": {},
     "output_type": "display_data"
    },
    {
     "data": {
      "text/plain": "(100, 100)"
     },
     "execution_count": 4,
     "metadata": {},
     "output_type": "execute_result"
    }
   ],
   "source": [
    "display(height_matrix)\n",
    "height_matrix.shape"
   ],
   "metadata": {
    "collapsed": false,
    "pycharm": {
     "name": "#%%\n"
    }
   }
  },
  {
   "cell_type": "code",
   "execution_count": 5,
   "outputs": [
    {
     "name": "stdout",
     "output_type": "stream",
     "text": [
      "[[0, 43], [0, 84], [1, 6], [1, 19], [1, 59], [1, 67], [1, 99], [2, 0], [2, 13], [2, 32], [2, 53], [3, 18], [3, 77], [3, 92], [4, 25], [4, 99], [5, 38], [5, 63], [5, 84], [6, 48], [7, 3], [7, 14], [7, 19], [7, 87], [8, 56], [8, 72], [8, 78], [9, 97], [10, 29], [10, 37], [10, 44], [10, 50], [11, 11], [11, 80], [11, 89], [12, 15], [13, 74], [14, 20], [14, 56], [14, 64], [15, 6], [15, 34], [15, 83], [15, 94], [16, 44], [16, 69], [16, 77], [16, 99], [17, 50], [17, 89], [18, 0], [18, 13], [18, 22], [19, 74], [20, 95], [21, 9], [21, 29], [21, 60], [22, 68], [23, 1], [23, 20], [23, 38], [23, 81], [24, 16], [24, 55], [24, 73], [26, 9], [26, 25], [26, 48], [26, 65], [26, 88], [28, 39], [28, 98], [29, 3], [29, 92], [30, 29], [30, 47], [31, 22], [31, 72], [32, 44], [32, 95], [33, 36], [33, 53], [33, 65], [33, 78], [33, 87], [34, 13], [34, 20], [34, 60], [35, 0], [35, 28], [36, 91], [36, 99], [37, 47], [38, 20], [39, 8], [39, 58], [39, 72], [40, 5], [40, 13], [40, 23], [40, 86], [41, 33], [41, 41], [41, 65], [42, 54], [42, 79], [42, 93], [43, 75], [45, 10], [45, 19], [45, 60], [46, 55], [46, 67], [46, 70], [46, 98], [47, 1], [47, 17], [47, 25], [47, 38], [47, 48], [48, 33], [48, 84], [49, 55], [50, 5], [50, 64], [50, 76], [51, 12], [51, 28], [51, 96], [52, 22], [53, 16], [53, 59], [53, 69], [53, 93], [54, 40], [54, 50], [54, 83], [55, 0], [55, 96], [56, 55], [56, 86], [57, 11], [57, 18], [58, 4], [58, 23], [58, 44], [58, 63], [58, 80], [59, 34], [59, 52], [60, 30], [60, 41], [61, 20], [61, 89], [62, 93], [62, 99], [63, 9], [63, 68], [64, 5], [64, 57], [64, 76], [64, 80], [65, 45], [65, 63], [66, 14], [66, 24], [67, 39], [67, 72], [67, 85], [67, 98], [68, 0], [68, 10], [68, 51], [68, 80], [69, 32], [69, 76], [70, 60], [70, 90], [71, 6], [71, 20], [71, 68], [73, 13], [73, 72], [73, 84], [74, 28], [74, 36], [74, 45], [74, 52], [74, 55], [74, 67], [75, 98], [76, 77], [77, 0], [77, 58], [78, 7], [79, 17], [79, 31], [79, 88], [80, 42], [80, 71], [81, 83], [82, 24], [82, 38], [82, 46], [82, 98], [83, 53], [84, 16], [84, 62], [84, 73], [85, 33], [85, 84], [86, 3], [86, 37], [86, 44], [87, 93], [88, 59], [89, 27], [89, 48], [90, 0], [90, 9], [90, 68], [91, 73], [92, 38], [92, 80], [93, 16], [93, 86], [94, 52], [94, 98], [95, 7], [95, 11], [95, 28], [95, 61], [95, 72], [96, 0], [97, 46], [98, 38], [98, 42], [98, 58], [98, 66], [98, 76], [98, 83], [98, 93], [99, 4], [99, 13], [99, 23], [99, 55]]\n"
     ]
    },
    {
     "data": {
      "text/plain": "600"
     },
     "execution_count": 5,
     "metadata": {},
     "output_type": "execute_result"
    }
   ],
   "source": [
    "low_points = []\n",
    "for x in range(height_matrix.shape[0]):\n",
    "    for y in range(height_matrix.shape[1]):\n",
    "        main_position = [x, y]\n",
    "        other_positions_all = sorted([\n",
    "            [x-1, y-1], [x+0, y-1], [x+1, y-1],\n",
    "            [x-1, y+0],  [x+1, y+0],\n",
    "            [x-1, y+1], [x+0, y+1], [x+1, y+1]], key=lambda x:x[0])\n",
    "        other_positions_valid = sorted([[x1, y1] for x1, y1 in other_positions_all if 0 <= x1 < 100 and 0 <= y1 < 100], key=lambda x:x[0])\n",
    "        main_depth = height_matrix[x, y]\n",
    "        lowest = True\n",
    "\n",
    "        for other_x, other_y in other_positions_valid:\n",
    "\n",
    "            other_depth = height_matrix[other_x, other_y]\n",
    "            if other_depth <= main_depth:\n",
    "                lowest = False\n",
    "                break\n",
    "                \n",
    "        if lowest:\n",
    "            low_points.append([x, y])\n",
    "\n",
    "\n",
    "\n",
    "print(low_points)\n",
    "sum([1 + height_matrix[x, y] for x, y in low_points])"
   ],
   "metadata": {
    "collapsed": false,
    "pycharm": {
     "name": "#%%\n"
    }
   }
  },
  {
   "cell_type": "code",
   "execution_count": 18,
   "outputs": [
    {
     "name": "stdout",
     "output_type": "stream",
     "text": [
      "Found pool of size (11)\n",
      "Found pool of size (4)\n",
      "Found pool of size (29)\n",
      "Found pool of size (9)\n",
      "Found pool of size (50)\n",
      "Found pool of size (35)\n",
      "Found pool of size (28)\n",
      "Found pool of size (30)\n",
      "Found pool of size (6)\n",
      "Found pool of size (45)\n",
      "Found pool of size (21)\n",
      "Found pool of size (51)\n",
      "Found pool of size (8)\n",
      "Found pool of size (61)\n",
      "Found pool of size (6)\n",
      "Found pool of size (58)\n",
      "Found pool of size (51)\n",
      "Found pool of size (12)\n",
      "Found pool of size (47)\n",
      "Found pool of size (2)\n",
      "Found pool of size (96)\n",
      "Found pool of size (11)\n",
      "Found pool of size (45)\n",
      "Found pool of size (14)\n",
      "Found pool of size (38)\n",
      "Found pool of size (18)\n",
      "Found pool of size (2)\n",
      "Found pool of size (9)\n",
      "Found pool of size (16)\n",
      "Found pool of size (7)\n",
      "Found pool of size (11)\n",
      "Found pool of size (19)\n",
      "Found pool of size (18)\n",
      "Found pool of size (17)\n",
      "Found pool of size (55)\n",
      "Found pool of size (20)\n",
      "Found pool of size (50)\n",
      "Found pool of size (29)\n",
      "Found pool of size (67)\n",
      "Found pool of size (10)\n",
      "Found pool of size (32)\n",
      "Found pool of size (2)\n",
      "Found pool of size (44)\n",
      "Found pool of size (28)\n",
      "Found pool of size (78)\n",
      "Found pool of size (9)\n",
      "Found pool of size (23)\n",
      "Found pool of size (37)\n",
      "Found pool of size (50)\n",
      "Found pool of size (13)\n",
      "Found pool of size (12)\n",
      "Found pool of size (4)\n",
      "Found pool of size (32)\n",
      "Found pool of size (2)\n",
      "Found pool of size (47)\n",
      "Found pool of size (42)\n",
      "Found pool of size (9)\n",
      "Found pool of size (59)\n",
      "Found pool of size (50)\n",
      "Found pool of size (3)\n",
      "Found pool of size (69)\n",
      "Found pool of size (30)\n",
      "Found pool of size (14)\n",
      "Found pool of size (71)\n",
      "Found pool of size (42)\n",
      "Found pool of size (25)\n",
      "Found pool of size (3)\n",
      "Found pool of size (21)\n",
      "Found pool of size (37)\n",
      "Found pool of size (40)\n",
      "Found pool of size (16)\n",
      "Found pool of size (21)\n",
      "Found pool of size (25)\n",
      "Found pool of size (35)\n",
      "Found pool of size (35)\n",
      "Found pool of size (98)\n",
      "Found pool of size (17)\n",
      "Found pool of size (68)\n",
      "Found pool of size (6)\n",
      "Found pool of size (22)\n",
      "Found pool of size (79)\n",
      "Found pool of size (40)\n",
      "Found pool of size (31)\n",
      "Found pool of size (42)\n",
      "Found pool of size (4)\n",
      "Found pool of size (18)\n",
      "Found pool of size (66)\n",
      "Found pool of size (2)\n",
      "Found pool of size (73)\n",
      "Found pool of size (2)\n",
      "Found pool of size (20)\n",
      "Found pool of size (2)\n",
      "Found pool of size (89)\n",
      "Found pool of size (15)\n",
      "Found pool of size (6)\n",
      "Found pool of size (37)\n",
      "Found pool of size (21)\n",
      "Found pool of size (2)\n",
      "Found pool of size (18)\n",
      "Found pool of size (24)\n",
      "Found pool of size (51)\n",
      "Found pool of size (33)\n",
      "Found pool of size (39)\n",
      "Found pool of size (2)\n",
      "Found pool of size (18)\n",
      "Found pool of size (24)\n",
      "Found pool of size (2)\n",
      "Found pool of size (26)\n",
      "Found pool of size (7)\n",
      "Found pool of size (20)\n",
      "Found pool of size (47)\n",
      "Found pool of size (55)\n",
      "Found pool of size (35)\n",
      "Found pool of size (13)\n",
      "Found pool of size (12)\n",
      "Found pool of size (79)\n",
      "Found pool of size (71)\n",
      "Found pool of size (51)\n",
      "Found pool of size (14)\n",
      "Found pool of size (11)\n",
      "Found pool of size (4)\n",
      "Found pool of size (9)\n",
      "Found pool of size (8)\n",
      "Found pool of size (40)\n",
      "Found pool of size (3)\n",
      "Found pool of size (23)\n",
      "Found pool of size (18)\n",
      "Found pool of size (44)\n",
      "Found pool of size (84)\n",
      "Found pool of size (4)\n",
      "Found pool of size (59)\n",
      "Found pool of size (22)\n",
      "Found pool of size (39)\n",
      "Found pool of size (14)\n",
      "Found pool of size (22)\n",
      "Found pool of size (7)\n",
      "Found pool of size (2)\n",
      "Found pool of size (12)\n",
      "Found pool of size (14)\n",
      "Found pool of size (46)\n",
      "Found pool of size (67)\n",
      "Found pool of size (23)\n",
      "Found pool of size (32)\n",
      "Found pool of size (51)\n",
      "Found pool of size (60)\n",
      "Found pool of size (2)\n",
      "Found pool of size (7)\n",
      "Found pool of size (34)\n",
      "Found pool of size (14)\n",
      "Found pool of size (4)\n",
      "Found pool of size (6)\n",
      "Found pool of size (36)\n",
      "Found pool of size (25)\n",
      "Found pool of size (20)\n",
      "Found pool of size (6)\n",
      "Found pool of size (30)\n",
      "Found pool of size (18)\n",
      "Found pool of size (49)\n",
      "Found pool of size (2)\n",
      "Found pool of size (41)\n",
      "Found pool of size (59)\n",
      "Found pool of size (42)\n",
      "Found pool of size (11)\n",
      "Found pool of size (6)\n",
      "Found pool of size (8)\n",
      "Found pool of size (3)\n",
      "Found pool of size (18)\n",
      "Found pool of size (45)\n",
      "Found pool of size (76)\n",
      "Found pool of size (32)\n",
      "Found pool of size (35)\n",
      "Found pool of size (3)\n",
      "Found pool of size (17)\n",
      "Found pool of size (22)\n",
      "Found pool of size (19)\n",
      "Found pool of size (38)\n",
      "Found pool of size (40)\n",
      "Found pool of size (28)\n",
      "Found pool of size (10)\n",
      "Found pool of size (39)\n",
      "Found pool of size (27)\n",
      "Found pool of size (7)\n",
      "Found pool of size (54)\n",
      "Found pool of size (12)\n",
      "Found pool of size (40)\n",
      "Found pool of size (69)\n",
      "Found pool of size (62)\n",
      "Found pool of size (34)\n",
      "Found pool of size (17)\n",
      "Found pool of size (5)\n",
      "Found pool of size (79)\n",
      "Found pool of size (3)\n",
      "Found pool of size (48)\n",
      "Found pool of size (51)\n",
      "Found pool of size (5)\n",
      "Found pool of size (32)\n",
      "Found pool of size (13)\n",
      "Found pool of size (27)\n",
      "Found pool of size (32)\n",
      "Found pool of size (28)\n",
      "Found pool of size (42)\n",
      "Found pool of size (61)\n",
      "Found pool of size (26)\n",
      "Found pool of size (6)\n",
      "Found pool of size (7)\n",
      "Found pool of size (67)\n",
      "Found pool of size (105)\n",
      "Found pool of size (41)\n",
      "Found pool of size (4)\n",
      "Found pool of size (64)\n",
      "Found pool of size (16)\n",
      "Found pool of size (9)\n",
      "Found pool of size (26)\n",
      "Found pool of size (20)\n",
      "Found pool of size (15)\n",
      "Found pool of size (57)\n",
      "Found pool of size (61)\n",
      "Found pool of size (59)\n",
      "Found pool of size (7)\n",
      "Found pool of size (27)\n",
      "Found pool of size (71)\n",
      "Found pool of size (41)\n",
      "Found pool of size (35)\n",
      "Found pool of size (12)\n",
      "Found pool of size (32)\n",
      "Found pool of size (42)\n",
      "Found pool of size (11)\n",
      "Found pool of size (41)\n",
      "Found pool of size (74)\n",
      "Found pool of size (56)\n",
      "Found pool of size (2)\n",
      "Found pool of size (33)\n",
      "Found pool of size (31)\n",
      "Found pool of size (3)\n",
      "Found pool of size (38)\n",
      "Found pool of size (3)\n",
      "Found pool of size (3)\n",
      "Found pool of size (33)\n",
      "Found pool of size (7)\n",
      "Found pool of size (15)\n",
      "Found pool of size (20)\n",
      "Found pool of size (8)\n",
      "Found pool of size (7)\n",
      "Found pool of size (3)\n",
      "Found pool of size (5)\n",
      "Found pool of size (3)\n",
      "Found pool of size (4)\n"
     ]
    }
   ],
   "source": [
    "exhaustive_pools = []\n",
    "claimed_postitions = set()\n",
    "for x in range(height_matrix.shape[0]):\n",
    "    for y in range(height_matrix.shape[1]):\n",
    "        if (x, y) in claimed_postitions or height_matrix[x, y] == 9:\n",
    "            continue\n",
    "        else:\n",
    "            # Explore pool from here\n",
    "            claimed_postitions.add((x, y))\n",
    "            fringe = set()\n",
    "            fringe.add((x, y))\n",
    "\n",
    "            current_pool = set()\n",
    "            current_pool.add((x, y),)\n",
    "\n",
    "            while fringe and (next_node := fringe.pop()):\n",
    "                next_x, next_y = next_node\n",
    "                claimed_postitions.add((next_x, next_y))\n",
    "                current_pool.add((next_x, next_y))\n",
    "\n",
    "                other_positions_all = [\n",
    "                    [next_x+0, next_y-1],  # up\n",
    "                    [next_x-1, next_y+0],  # left\n",
    "                    [next_x+1, next_y+0],  # right\n",
    "                    [next_x+0, next_y+1],  # down\n",
    "                ]\n",
    "                other_positions_valid = [(x1, y1) for x1, y1 in other_positions_all if 0 <= x1 < 100 and 0 <= y1 < 100 and (x1, y1) not in claimed_postitions]\n",
    "                for other_x, other_y in other_positions_valid:\n",
    "                    if height_matrix[other_x, other_y] != 9:\n",
    "                        fringe.add((other_x, other_y))\n",
    "                        # claimed_postitions.add(other_x, other_y)\n",
    "                        # current_pool.add((other_x, other_y))\n",
    "            print(f\"Found pool of size ({len(current_pool)})\")\n",
    "            exhaustive_pools.append(current_pool)"
   ],
   "metadata": {
    "collapsed": false,
    "pycharm": {
     "name": "#%%\n"
    }
   }
  },
  {
   "cell_type": "code",
   "execution_count": 19,
   "outputs": [
    {
     "data": {
      "text/plain": "<matplotlib.image.AxesImage at 0x1c0b9b12680>"
     },
     "execution_count": 19,
     "metadata": {},
     "output_type": "execute_result"
    },
    {
     "data": {
      "text/plain": "<Figure size 720x720 with 1 Axes>",
      "image/png": "[encoded data removed]"
     },
     "metadata": {
      "needs_background": "light"
     },
     "output_type": "display_data"
    },
    {
     "data": {
      "text/plain": "<Figure size 720x720 with 1 Axes>",
      "image/png": "[encoded data removed]"
     },
     "metadata": {
      "needs_background": "light"
     },
     "output_type": "display_data"
    }
   ],
   "source": [
    "one_pool = np.ones((100, 100))\n",
    "for x in range(100):\n",
    "    for y in range(100):\n",
    "        one_pool[x,y] = 100 if height_matrix[x, y] == 9 else 0\n",
    "fig, ax = plt.subplots(figsize=(10,10))\n",
    "ax.matshow(one_pool)\n",
    "\n",
    "deepest_pool = np.zeros((100, 100))\n",
    "for x, y in low_points:\n",
    "    deepest_pool[x,y ] = -10\n",
    "\n",
    "fig, ax = plt.subplots(figsize=(10,10))\n",
    "ax.matshow(deepest_pool)"
   ],
   "metadata": {
    "collapsed": false,
    "pycharm": {
     "name": "#%%\n"
    }
   }
  },
  {
   "cell_type": "code",
   "execution_count": 20,
   "outputs": [
    {
     "name": "stdout",
     "output_type": "stream",
     "text": [
      "Pool valid! (105)\n",
      "Pool valid! (98)\n",
      "Pool valid! (96)\n",
      "Pool valid! (89)\n",
      "Pool valid! (84)\n",
      "Pool valid! (79)\n",
      "Pool valid! (79)\n",
      "Pool valid! (79)\n",
      "Pool valid! (78)\n",
      "Pool valid! (76)\n",
      "Pool valid! (74)\n",
      "Pool valid! (73)\n",
      "Pool valid! (71)\n",
      "Pool valid! (71)\n",
      "Pool valid! (71)\n",
      "Pool valid! (69)\n",
      "Pool valid! (69)\n",
      "Pool valid! (68)\n",
      "Pool valid! (67)\n",
      "Pool valid! (67)\n",
      "Pool valid! (67)\n",
      "Pool valid! (66)\n",
      "Pool valid! (64)\n",
      "Pool valid! (62)\n",
      "Pool valid! (61)\n",
      "Pool valid! (61)\n",
      "Pool valid! (61)\n",
      "Pool valid! (60)\n",
      "Pool valid! (59)\n",
      "Pool valid! (59)\n",
      "Pool valid! (59)\n",
      "Pool valid! (59)\n",
      "Pool valid! (58)\n",
      "Pool valid! (57)\n",
      "Pool valid! (56)\n",
      "Pool valid! (55)\n",
      "Pool valid! (55)\n",
      "Pool valid! (54)\n",
      "Pool valid! (51)\n",
      "Pool valid! (51)\n",
      "Pool valid! (51)\n",
      "Pool valid! (51)\n",
      "Pool valid! (51)\n",
      "Pool valid! (51)\n",
      "Pool valid! (50)\n",
      "Pool valid! (50)\n",
      "Pool valid! (50)\n",
      "Pool valid! (50)\n",
      "Pool valid! (49)\n",
      "Pool valid! (48)\n",
      "Pool valid! (47)\n",
      "Pool valid! (47)\n",
      "Pool valid! (47)\n",
      "Pool valid! (46)\n",
      "Pool valid! (45)\n",
      "Pool valid! (45)\n",
      "Pool valid! (45)\n",
      "Pool valid! (44)\n",
      "Pool valid! (44)\n",
      "Pool valid! (42)\n",
      "Pool valid! (42)\n",
      "Pool valid! (42)\n",
      "Pool valid! (42)\n",
      "Pool valid! (42)\n",
      "Pool valid! (42)\n",
      "Pool valid! (41)\n",
      "Pool valid! (41)\n",
      "Pool valid! (41)\n",
      "Pool valid! (41)\n",
      "Pool valid! (40)\n",
      "Pool valid! (40)\n",
      "Pool valid! (40)\n",
      "Pool valid! (40)\n",
      "Pool valid! (40)\n",
      "Pool valid! (39)\n",
      "Pool valid! (39)\n",
      "Pool valid! (39)\n",
      "Pool valid! (38)\n",
      "Pool valid! (38)\n",
      "Pool valid! (38)\n",
      "Pool valid! (37)\n",
      "Pool valid! (37)\n",
      "Pool valid! (37)\n",
      "Pool valid! (36)\n",
      "Pool valid! (35)\n",
      "Pool valid! (35)\n",
      "Pool valid! (35)\n",
      "Pool valid! (35)\n",
      "Pool valid! (35)\n",
      "Pool valid! (35)\n",
      "Pool valid! (34)\n",
      "Pool valid! (34)\n",
      "Pool valid! (33)\n",
      "Pool valid! (33)\n",
      "Pool valid! (33)\n",
      "Pool valid! (32)\n",
      "Pool valid! (32)\n",
      "Pool valid! (32)\n",
      "Pool valid! (32)\n",
      "Pool valid! (32)\n",
      "Pool valid! (32)\n",
      "Pool valid! (32)\n",
      "Pool valid! (31)\n",
      "Pool valid! (31)\n",
      "Pool valid! (30)\n",
      "Pool valid! (30)\n",
      "Pool valid! (30)\n",
      "Pool valid! (29)\n",
      "Pool valid! (29)\n",
      "Pool valid! (28)\n",
      "Pool valid! (28)\n",
      "Pool valid! (28)\n",
      "Pool valid! (28)\n",
      "Pool valid! (27)\n",
      "Pool valid! (27)\n",
      "Pool valid! (27)\n",
      "Pool valid! (26)\n",
      "Pool valid! (26)\n",
      "Pool valid! (26)\n",
      "Pool valid! (25)\n",
      "Pool valid! (25)\n",
      "Pool valid! (25)\n",
      "Pool valid! (24)\n",
      "Pool valid! (24)\n",
      "Pool valid! (23)\n",
      "Pool valid! (23)\n",
      "Pool valid! (23)\n",
      "Pool valid! (22)\n",
      "Pool valid! (22)\n",
      "Pool valid! (22)\n",
      "Pool valid! (22)\n",
      "Pool valid! (21)\n",
      "Pool valid! (21)\n",
      "Pool valid! (21)\n",
      "Pool valid! (21)\n",
      "Pool valid! (20)\n",
      "Pool valid! (20)\n",
      "Pool valid! (20)\n",
      "Pool valid! (20)\n",
      "Pool valid! (20)\n",
      "Pool valid! (20)\n",
      "Pool valid! (19)\n",
      "Pool valid! (19)\n",
      "Pool valid! (18)\n",
      "Pool valid! (18)\n",
      "Pool valid! (18)\n",
      "Pool valid! (18)\n",
      "Pool valid! (18)\n",
      "Pool valid! (18)\n",
      "Pool valid! (18)\n",
      "Pool valid! (18)\n",
      "Pool valid! (17)\n",
      "Pool valid! (17)\n",
      "Pool valid! (17)\n",
      "Pool valid! (17)\n",
      "Pool valid! (16)\n",
      "Pool valid! (16)\n",
      "Pool valid! (16)\n",
      "Pool valid! (15)\n",
      "Pool valid! (15)\n",
      "Pool valid! (15)\n",
      "Pool valid! (14)\n",
      "Pool valid! (14)\n",
      "Pool valid! (14)\n",
      "Pool valid! (14)\n",
      "Pool valid! (14)\n",
      "Pool valid! (14)\n",
      "Pool valid! (13)\n",
      "Pool valid! (13)\n",
      "Pool valid! (13)\n",
      "Pool valid! (12)\n",
      "Pool valid! (12)\n",
      "Pool valid! (12)\n",
      "Pool valid! (12)\n",
      "Pool valid! (12)\n",
      "Pool valid! (12)\n",
      "Pool valid! (11)\n",
      "Pool valid! (11)\n",
      "Pool valid! (11)\n",
      "Pool valid! (11)\n",
      "Pool valid! (11)\n",
      "Pool valid! (11)\n",
      "Pool valid! (10)\n",
      "Pool valid! (10)\n",
      "Pool valid! (9)\n",
      "Pool valid! (9)\n",
      "Pool valid! (9)\n",
      "Pool valid! (9)\n",
      "Pool valid! (9)\n",
      "Pool valid! (9)\n",
      "Pool valid! (8)\n",
      "Pool valid! (8)\n",
      "Pool valid! (8)\n",
      "Pool valid! (8)\n",
      "Pool valid! (7)\n",
      "Pool valid! (7)\n",
      "Pool valid! (7)\n",
      "Pool valid! (7)\n",
      "Pool valid! (7)\n",
      "Pool valid! (7)\n",
      "Pool valid! (7)\n",
      "Pool valid! (7)\n",
      "Pool valid! (7)\n",
      "Pool valid! (6)\n",
      "Pool valid! (6)\n",
      "Pool valid! (6)\n",
      "Pool valid! (6)\n",
      "Pool valid! (6)\n",
      "Pool valid! (6)\n",
      "Pool valid! (6)\n",
      "Pool valid! (6)\n",
      "Pool valid! (5)\n",
      "Pool valid! (5)\n",
      "Pool valid! (5)\n",
      "Pool valid! (4)\n",
      "Pool valid! (4)\n",
      "Pool valid! (4)\n",
      "Pool valid! (4)\n",
      "Pool valid! (4)\n",
      "Pool valid! (4)\n",
      "Pool valid! (4)\n",
      "Pool valid! (4)\n",
      "Pool valid! (3)\n",
      "Pool valid! (3)\n",
      "Pool valid! (3)\n",
      "Pool valid! (3)\n",
      "Pool valid! (3)\n",
      "Pool valid! (3)\n",
      "Pool valid! (3)\n",
      "Pool valid! (3)\n",
      "Pool valid! (3)\n",
      "Pool valid! (3)\n",
      "Pool valid! (3)\n",
      "Pool valid! (2)\n",
      "Pool valid! (2)\n",
      "Pool valid! (2)\n",
      "Pool valid! (2)\n",
      "Pool valid! (2)\n",
      "Pool valid! (2)\n",
      "Pool valid! (2)\n",
      "Pool valid! (2)\n",
      "Pool valid! (2)\n",
      "Pool valid! (2)\n",
      "Pool valid! (2)\n",
      "Pool valid! (2)\n",
      "Pool valid! (2)\n",
      "Pool valid! (2)\n"
     ]
    },
    {
     "data": {
      "text/plain": "<matplotlib.image.AxesImage at 0x1c0b9b955d0>"
     },
     "execution_count": 20,
     "metadata": {},
     "output_type": "execute_result"
    },
    {
     "data": {
      "text/plain": "<Figure size 720x3600 with 1 Axes>",
      "image/png": "[encoded data removed]"
     },
     "metadata": {
      "needs_background": "light"
     },
     "output_type": "display_data"
    }
   ],
   "source": [
    "\n",
    "empty_pool = np.zeros((100, 100))\n",
    "\n",
    "master_pools = []\n",
    "\n",
    "for pool in sorted([pool for pool in exhaustive_pools], key=lambda x: -len(x)):\n",
    "    pool_valid = True\n",
    "    for x, y in pool:\n",
    "        if empty_pool[x,y] > 0:\n",
    "            print(f\"Invalidating {empty_pool[x, y]}\")\n",
    "            pool_valid = False\n",
    "        empty_pool[x,y] += 1\n",
    "    if pool_valid:\n",
    "        print(f\"Pool valid! ({len(pool)})\")\n",
    "        master_pools.append(pool)\n",
    "    else:\n",
    "        print(f\"invalid pool ({len(pool)})\")\n",
    "# plt.matshow(empty_pool)\n",
    "# empty_pool[0:10, 0:10] = 0\n",
    "\n",
    "\n",
    "fig, ax = plt.subplots(figsize=(10,50))\n",
    "ax.matshow(empty_pool + one_pool + deepest_pool)"
   ],
   "metadata": {
    "collapsed": false,
    "pycharm": {
     "name": "#%%\n"
    }
   }
  },
  {
   "cell_type": "code",
   "execution_count": 21,
   "outputs": [
    {
     "data": {
      "text/plain": "<matplotlib.image.AxesImage at 0x1c0b9bc1de0>"
     },
     "execution_count": 21,
     "metadata": {},
     "output_type": "execute_result"
    },
    {
     "data": {
      "text/plain": "<Figure size 720x3600 with 1 Axes>",
      "image/png": "[encoded data removed]"
     },
     "metadata": {
      "needs_background": "light"
     },
     "output_type": "display_data"
    }
   ],
   "source": [
    "fig, ax = plt.subplots(figsize=(10,50))\n",
    "ax.matshow(height_matrix)"
   ],
   "metadata": {
    "collapsed": false,
    "pycharm": {
     "name": "#%%\n"
    }
   }
  },
  {
   "cell_type": "code",
   "execution_count": 22,
   "outputs": [
    {
     "name": "stdout",
     "output_type": "stream",
     "text": [
      "nine_occurences=2862, pools_sum=7138, total=10000, (sum(c.values()))=10000\n"
     ]
    }
   ],
   "source": [
    "from collections import Counter\n",
    "\n",
    "c = Counter(height_matrix.flatten())\n",
    "nine_occurences = c[9]\n",
    "pools_sum = sum([len(pool) for pool in master_pools])\n",
    "total = nine_occurences + pools_sum\n",
    "print(f\"{nine_occurences=}, {pools_sum=}, {total=}, {(sum(c.values()))=}\")"
   ],
   "metadata": {
    "collapsed": false,
    "pycharm": {
     "name": "#%%\n"
    }
   }
  },
  {
   "cell_type": "code",
   "execution_count": 17,
   "outputs": [
    {
     "data": {
      "text/plain": "987840"
     },
     "execution_count": 17,
     "metadata": {},
     "output_type": "execute_result"
    }
   ],
   "source": [
    "top_3_pools = sorted([len(pool) for pool in master_pools])[-3:]\n",
    "total = 1\n",
    "for pool_size in top_3_pools:\n",
    "    total *= pool_size\n",
    "\n",
    "total"
   ],
   "metadata": {
    "collapsed": false,
    "pycharm": {
     "name": "#%%\n"
    }
   }
  },
  {
   "cell_type": "code",
   "execution_count": null,
   "outputs": [],
   "source": [],
   "metadata": {
    "collapsed": false,
    "pycharm": {
     "name": "#%%\n"
    }
   }
  }
 ],
 "metadata": {
  "kernelspec": {
   "display_name": "Python 3",
   "language": "python",
   "name": "python3"
  },
  "language_info": {
   "codemirror_mode": {
    "name": "ipython",
    "version": 2
   },
   "file_extension": ".py",
   "mimetype": "text/x-python",
   "name": "python",
   "nbconvert_exporter": "python",
   "pygments_lexer": "ipython2",
   "version": "2.7.6"
  }
 },
 "nbformat": 4,
 "nbformat_minor": 0
}