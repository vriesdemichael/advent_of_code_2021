{
 "cells": [
  {
   "cell_type": "code",
   "execution_count": 2,
   "metadata": {},
   "outputs": [],
   "source": [
    "import re\n",
    "from itertools import tee\n",
    "from pathlib import Path\n",
    "from tqdm.notebook import tqdm\n",
    "from collections import Counter, defaultdict"
   ]
  },
  {
   "cell_type": "code",
   "execution_count": 3,
   "metadata": {
    "pycharm": {
     "name": "#%%\n"
    }
   },
   "outputs": [],
   "source": [
    "input_text = Path(\"../input_data/14\").read_text()"
   ]
  },
  {
   "cell_type": "code",
   "execution_count": 4,
   "metadata": {
    "pycharm": {
     "name": "#%%\n"
    }
   },
   "outputs": [],
   "source": [
    "lines = input_text.split(\"\\n\")\n",
    "polymer_template = lines[0]"
   ]
  },
  {
   "cell_type": "markdown",
   "metadata": {},
   "source": [
    "For fast lookups of insertion instructions I use a dictionary of dictionaries."
   ]
  },
  {
   "cell_type": "code",
   "execution_count": null,
   "metadata": {},
   "outputs": [],
   "source": [
    "insertion_lookup = defaultdict(dict)\n",
    "pattern = re.compile(r'(?P<first_element>[A-Z])(?P<second_element>[A-Z]) -> (?P<new_element>[A-Z])')\n",
    "\n",
    "for match in pattern.finditer(input_text):\n",
    "    first_element, second_element, new_element = match[\"first_element\"], match[\"second_element\"], match[\"new_element\"]\n",
    "    insertion_lookup[first_element][second_element]=new_element\n"
   ]
  },
  {
   "cell_type": "markdown",
   "metadata": {},
   "source": [
    "Since were dealing with insertions halfway through a string a linked list is a proper data structure. This way we can insert in items without having to shift all items at a later index."
   ]
  },
  {
   "cell_type": "code",
   "execution_count": 5,
   "metadata": {
    "pycharm": {
     "name": "#%%\n"
    }
   },
   "outputs": [],
   "source": [
    "class LinkedList:\n",
    "    def __init__(self, value):\n",
    "        self.value = value\n",
    "        self.next_item = None\n",
    "\n",
    "    def get_last(self):\n",
    "        current = self\n",
    "        while current.next_item:\n",
    "            current = current.next_item\n",
    "\n",
    "        return current\n",
    "\n",
    "    @classmethod\n",
    "    def from_list(cls, items):\n",
    "        ll = LinkedList(None)\n",
    "        for n, item in enumerate(items):\n",
    "            ll += item\n",
    "        return ll.next_item\n",
    "\n",
    "    def __iadd__(self, other):\n",
    "        final_item = self.get_last()\n",
    "\n",
    "        final_item.next_item = LinkedList(other)\n",
    "        return self\n",
    "\n",
    "    def __iter__(self):\n",
    "        current = self\n",
    "        yield current.value\n",
    "        while current := current.next_item:\n",
    "            yield current.value\n",
    "\n",
    "    def length(self):\n",
    "        total_len = 1\n",
    "        current = self\n",
    "        while current := current.next_item:\n",
    "#             print(f\"{current.value=}{total_len=}\")\n",
    "            total_len+=1\n",
    "\n",
    "        return total_len\n",
    "\n",
    "    def __str__(self):\n",
    "        return f\"<LinkedList: {[x for x in self]}>\"\n",
    "\n",
    "    def __repr__(self):\n",
    "        return str(self)"
   ]
  },
  {
   "cell_type": "code",
   "execution_count": 6,
   "metadata": {
    "pycharm": {
     "name": "#%%\n"
    }
   },
   "outputs": [
    {
     "data": {
      "text/plain": [
       "<LinkedList: ['B', 'C', 'H', 'C', 'K', 'F', 'F', 'H', 'S', 'K', 'P', 'B', 'S', 'N', 'V', 'V', 'K', 'V', 'S', 'K']>"
      ]
     },
     "execution_count": 6,
     "metadata": {},
     "output_type": "execute_result"
    }
   ],
   "source": [
    "polymer_ll = LinkedList.from_list(list(polymer_template))\n",
    "polymer_ll"
   ]
  },
  {
   "cell_type": "code",
   "execution_count": 7,
   "metadata": {
    "pycharm": {
     "name": "#%%\n"
    }
   },
   "outputs": [],
   "source": [
    "def polymerization(polymer_template, steps):\n",
    "    polymer_ll = LinkedList.from_list(list(polymer_template))\n",
    "    print(f\"Step 0: {polymer_ll.length()}\")\n",
    "    second = polymer_ll  # to simulate the 0th element\n",
    "\n",
    "    for step in tqdm(range(1, steps + 1)):\n",
    "        second = polymer_ll\n",
    "        with tqdm(total=polymer_ll.length() -1 , leave=False) as pbar:\n",
    "            while (first := second) and (second := second.next_item):\n",
    "                if (level1:= insertion_lookup.get(first.value, None)) and (new_element := level1.get(second.value, None)):\n",
    "                    new_item = LinkedList(new_element)\n",
    "                    new_item.next_item = second\n",
    "                    first.next_item = new_item\n",
    "#                     print(f\"Update {new_element}\")\n",
    "#                 else:\n",
    "#                     print(\"No update\")\n",
    "\n",
    "                pbar.update(1)\n",
    "#                 for (first_condition, second_condition, new_element) in pair_insertions:\n",
    "#                     if first.value == first_condition and second.value == second_condition:\n",
    "#                         first.next_item = LinkedList(new_element)\n",
    "#                         first.next_item.next_item = second\n",
    "#                         break\n",
    "\n",
    "        tqdm.write(f\"Step {step}: {polymer_ll.length()}\")\n",
    "    return polymer_ll\n"
   ]
  },
  {
   "cell_type": "code",
   "execution_count": 8,
   "metadata": {
    "pycharm": {
     "name": "#%%\n"
    }
   },
   "outputs": [
    {
     "name": "stdout",
     "output_type": "stream",
     "text": [
      "Step 0: 20\n"
     ]
    },
    {
     "data": {
      "application/vnd.jupyter.widget-view+json": {
       "model_id": "538a6ca419b1476dba594af7724cdc8d",
       "version_major": 2,
       "version_minor": 0
      },
      "text/plain": [
       "  0%|          | 0/10 [00:00<?, ?it/s]"
      ]
     },
     "metadata": {},
     "output_type": "display_data"
    },
    {
     "data": {
      "application/vnd.jupyter.widget-view+json": {
       "model_id": "",
       "version_major": 2,
       "version_minor": 0
      },
      "text/plain": [
       "  0%|          | 0/19 [00:00<?, ?it/s]"
      ]
     },
     "metadata": {},
     "output_type": "display_data"
    },
    {
     "name": "stdout",
     "output_type": "stream",
     "text": [
      "Step 1: 39\n"
     ]
    },
    {
     "data": {
      "application/vnd.jupyter.widget-view+json": {
       "model_id": "",
       "version_major": 2,
       "version_minor": 0
      },
      "text/plain": [
       "  0%|          | 0/38 [00:00<?, ?it/s]"
      ]
     },
     "metadata": {},
     "output_type": "display_data"
    },
    {
     "name": "stdout",
     "output_type": "stream",
     "text": [
      "Step 2: 77\n"
     ]
    },
    {
     "data": {
      "application/vnd.jupyter.widget-view+json": {
       "model_id": "",
       "version_major": 2,
       "version_minor": 0
      },
      "text/plain": [
       "  0%|          | 0/76 [00:00<?, ?it/s]"
      ]
     },
     "metadata": {},
     "output_type": "display_data"
    },
    {
     "name": "stdout",
     "output_type": "stream",
     "text": [
      "Step 3: 153\n"
     ]
    },
    {
     "data": {
      "application/vnd.jupyter.widget-view+json": {
       "model_id": "",
       "version_major": 2,
       "version_minor": 0
      },
      "text/plain": [
       "  0%|          | 0/152 [00:00<?, ?it/s]"
      ]
     },
     "metadata": {},
     "output_type": "display_data"
    },
    {
     "name": "stdout",
     "output_type": "stream",
     "text": [
      "Step 4: 305\n"
     ]
    },
    {
     "data": {
      "application/vnd.jupyter.widget-view+json": {
       "model_id": "",
       "version_major": 2,
       "version_minor": 0
      },
      "text/plain": [
       "  0%|          | 0/304 [00:00<?, ?it/s]"
      ]
     },
     "metadata": {},
     "output_type": "display_data"
    },
    {
     "name": "stdout",
     "output_type": "stream",
     "text": [
      "Step 5: 609\n"
     ]
    },
    {
     "data": {
      "application/vnd.jupyter.widget-view+json": {
       "model_id": "",
       "version_major": 2,
       "version_minor": 0
      },
      "text/plain": [
       "  0%|          | 0/608 [00:00<?, ?it/s]"
      ]
     },
     "metadata": {},
     "output_type": "display_data"
    },
    {
     "name": "stdout",
     "output_type": "stream",
     "text": [
      "Step 6: 1217\n"
     ]
    },
    {
     "data": {
      "application/vnd.jupyter.widget-view+json": {
       "model_id": "",
       "version_major": 2,
       "version_minor": 0
      },
      "text/plain": [
       "  0%|          | 0/1216 [00:00<?, ?it/s]"
      ]
     },
     "metadata": {},
     "output_type": "display_data"
    },
    {
     "name": "stdout",
     "output_type": "stream",
     "text": [
      "Step 7: 2433\n"
     ]
    },
    {
     "data": {
      "application/vnd.jupyter.widget-view+json": {
       "model_id": "",
       "version_major": 2,
       "version_minor": 0
      },
      "text/plain": [
       "  0%|          | 0/2432 [00:00<?, ?it/s]"
      ]
     },
     "metadata": {},
     "output_type": "display_data"
    },
    {
     "name": "stdout",
     "output_type": "stream",
     "text": [
      "Step 8: 4865\n"
     ]
    },
    {
     "data": {
      "application/vnd.jupyter.widget-view+json": {
       "model_id": "",
       "version_major": 2,
       "version_minor": 0
      },
      "text/plain": [
       "  0%|          | 0/4864 [00:00<?, ?it/s]"
      ]
     },
     "metadata": {},
     "output_type": "display_data"
    },
    {
     "name": "stdout",
     "output_type": "stream",
     "text": [
      "Step 9: 9729\n"
     ]
    },
    {
     "data": {
      "application/vnd.jupyter.widget-view+json": {
       "model_id": "",
       "version_major": 2,
       "version_minor": 0
      },
      "text/plain": [
       "  0%|          | 0/9728 [00:00<?, ?it/s]"
      ]
     },
     "metadata": {},
     "output_type": "display_data"
    },
    {
     "name": "stdout",
     "output_type": "stream",
     "text": [
      "Step 10: 19457\n"
     ]
    },
    {
     "data": {
      "text/plain": [
       "2797"
      ]
     },
     "metadata": {},
     "output_type": "display_data"
    },
    {
     "data": {
      "text/plain": [
       "Counter({'B': 3330,\n",
       "         'C': 938,\n",
       "         'F': 1352,\n",
       "         'S': 1955,\n",
       "         'K': 3289,\n",
       "         'O': 2067,\n",
       "         'V': 2237,\n",
       "         'P': 717,\n",
       "         'N': 3039,\n",
       "         'H': 533})"
      ]
     },
     "metadata": {},
     "output_type": "display_data"
    },
    {
     "name": "stdout",
     "output_type": "stream",
     "text": [
      "Wall time: 228 ms\n"
     ]
    }
   ],
   "source": [
    "%%time\n",
    "c = Counter(polymerization(polymer_template, 10))\n",
    "display(c.most_common()[0][1] - c.most_common()[-1][1])\n",
    "display(c)"
   ]
  },
  {
   "cell_type": "markdown",
   "metadata": {
    "pycharm": {
     "name": "#%% md\n"
    }
   },
   "source": [
    "## Part 2\n",
    "`polymerization(polymer_template, 40)` Memory issues after step 20 needs a different approach\n",
    "Also it took too long...\n",
    "\n",
    "As a new strategy approach it as a tree.\n",
    "For every pair of characters in the template you can only get new characters in between. This means you can calculate the result of all 40 steps of the first two characters, count the result and move on to the next pair of characters.\n",
    "\n",
    "Similarly you can do this for every next step of the first characters.\n",
    "\n",
    "Example:\n",
    "\n",
    "Template: AB\n",
    "\n",
    "instructions:\n",
    "AB -> C\n",
    "AC -> D\n",
    "CB -> C\n",
    "\n",
    "```\n",
    "             AB\n",
    "           /    \\ \n",
    "          AC    CB\n",
    "         / \\    / \\\n",
    "        AD DC  CC CB\n",
    "        -------------\n",
    "         \\ /    \\ /\n",
    "         ADC    CCB\n",
    "           \\    /\n",
    "            ADCCB\n",
    "```\n",
    "We don't need the end result (at the bottom of the tree), we only need a count of the characters.\n",
    "\n",
    "As soon as you know all characters that form from the node with `AC` you can count the characters in the subtree. For the `AC` node that would be `{A: 1, C: 1, D: 1}`. By doing this recursively you can calculate the resulting count much faster.\n",
    "\n",
    "For a last performance boost you can cache the result of subtrees with an amount of steps left.\n"
   ]
  },
  {
   "cell_type": "code",
   "execution_count": 31,
   "metadata": {
    "pycharm": {
     "name": "#%%\n"
    }
   },
   "outputs": [],
   "source": [
    "from functools import lru_cache\n",
    "\n",
    "\n",
    "def pairwise(iterable):\n",
    "    \"s -> (s0,s1), (s1,s2), (s2, s3), ...\"\n",
    "    a, b = tee(iterable)\n",
    "    next(b, None)\n",
    "    return zip(a, b)\n",
    "\n",
    "@lru_cache(maxsize=100000, typed=True)\n",
    "def process_part(a, b, steps_left):\n",
    "    if steps_left > 0 and (level1:= insertion_lookup.get(a, None)) and (new_element := level1.get(b, None)):\n",
    "        return process_part(a, new_element, steps_left-1) + process_part(new_element, b, steps_left-1) - Counter([new_element])\n",
    "    else:\n",
    "        # end of this part\n",
    "        return Counter([a, b])\n",
    "\n",
    "\n",
    "def polymerization_tree(polymer_template, steps):\n",
    "    # walk the polymerization as a depth first tree, flatten subtrees which are complete\n",
    "    global_counter = Counter()\n",
    "    print(polymer_template)\n",
    "    for a, b in pairwise(list(polymer_template)):\n",
    "        # print(f\"Processing {a} {b}\")\n",
    "        global_counter += process_part(a, b, steps_left=steps)\n",
    "\n",
    "    return global_counter - Counter(polymer_template[1:-1])"
   ]
  },
  {
   "cell_type": "code",
   "execution_count": 26,
   "metadata": {
    "pycharm": {
     "name": "#%%\n"
    }
   },
   "outputs": [
    {
     "name": "stdout",
     "output_type": "stream",
     "text": [
      "BCHCKFFHSKPBSNVVKVSK\n"
     ]
    },
    {
     "data": {
      "text/plain": [
       "Counter({'B': 3397499171538,\n",
       "         'C': 984258259007,\n",
       "         'F': 1483618435179,\n",
       "         'S': 1901381229051,\n",
       "         'K': 3537050036671,\n",
       "         'O': 2595523651777,\n",
       "         'V': 2298821733898,\n",
       "         'P': 778268121366,\n",
       "         'N': 3304063632119,\n",
       "         'H': 610236657139})"
      ]
     },
     "metadata": {},
     "output_type": "display_data"
    },
    {
     "name": "stdout",
     "output_type": "stream",
     "text": [
      "Wall time: 30 ms\n"
     ]
    },
    {
     "data": {
      "text/plain": [
       "2926813379532"
      ]
     },
     "execution_count": 26,
     "metadata": {},
     "output_type": "execute_result"
    }
   ],
   "source": [
    "%%time\n",
    "c = polymerization_tree(polymer_template, 40)\n",
    "display(c)\n",
    "c.most_common()[0][1] - c.most_common()[-1][1]"
   ]
  },
  {
   "cell_type": "markdown",
   "metadata": {},
   "source": [
    "Just for the fun of it, how many steps can this approach handle?"
   ]
  },
  {
   "cell_type": "code",
   "execution_count": 30,
   "metadata": {
    "pycharm": {
     "name": "#%%\n"
    },
    "scrolled": true
   },
   "outputs": [
    {
     "name": "stdout",
     "output_type": "stream",
     "text": [
      "BCHCKFFHSKPBSNVVKVSK\n"
     ]
    },
    {
     "data": {
      "text/plain": [
       "Counter({'B': 85497600718513471020669328927531476071522658933991767831747779947249992034363873234006765851841469910924184889545437005259973862788707918639664108448330046385339115805077316765995102076403617173874064440078905689789646862985079188890014539580153025285226774421848253517976409656491833310649845182506492463285251752655104615100209260444864252932823173530080796519626551718964002118139483029192689785676335878891095285069155,\n",
       "         'C': 24768972252314673550507888528971913247656102146129229943923065275725437902987324749590854107233238278969865268441088985615415173553621277027154856582054389233492309270780276339868381612169353278542277060777806576704132988876154227788164467869515163659762634178254879191502765873471333684131594694964649758799311460013243489940816121436818701022443198119544034675906968788327193987369741396014168596472340098376711413855156,\n",
       "         'F': 37334709449664560219516367404937102454567531625515358729297226731017542315911336942208896737999575682958556844538322075363424924751247164726723042310307575871498106515260363606515087605345488729610534699385569655377971656856079600695545362110575486643448729421293685738050207509724955078288008757704691819482940741600420461032206086568832386217523245756518699052248652390820922666966553095676140332725333202584815639060333,\n",
       "         'S': 47848508458319858352936293952369369590894551730852216260674890901532860286523269514936164086573878829194121426897015861811926089011764448486892888603164254474020927551190836001630452932960724681475182609506984564321165577214104989852013636488342557062982215409342154525089518146739910692778435305860009557774455270273600822102618020870620415710411762098391497478180664061326474526255187390010764388031157981653060285585523,\n",
       "         'K': 89008790572971039448549892310948943950989878278651112141045047388919102848558769937328078598270277708451696601710833071418504213605236775234582680729021208484254819681056266831767919349890284191546845982502001276222643712318194729471139473887849892694716990490512465729797552065115890945259828551019224857426866260463933574497973401076370635892460818665275602790091275569709472615298727161550355467024297119876326906210770,\n",
       "         'O': 65314808544910161042089169228981873833356540081158969444143358514134828701101978008396988954360373227608921755947387815590166238245680004104605183628563491915143914093189091552596536832726414549302691266847301700755918905764393145316799992635864228849420498198272129662094370545761211326411200508147331726013731047742827915976849823082994902264817771142164412606540262984071820636609479592781146964695751422247481882509007,\n",
       "         'V': 57849945966760443636672845437719329336767965122481951422939678947053653660816220964608309130978323417069655490482668153840947011900222628898928898607588278079347938151642406591338917835987966092229571356619091241938605068735068607836320823734346651063646215736113322386901247842586345625526705494488068533303060983559148657237605802247282486660681129996211050311745979085085758915857115989045962687956727428423416028905191,\n",
       "         'P': 19584967009964026385667531235163349927632682108255086061114999220979050325183557042639993471587222789034490661923355436203710113473841039760996111055607411631689873022649521336148276351282301089307689824968336958084902823972565956077878126261243847934009186777149805273925857810267193909621485664048931268387163106219907458761565013417509490184824562680881925046193256034282159786258940006869354714880165841292193655711629,\n",
       "         'N': 83146655397994640654108972257878060340951980165631515858355736071861272987012907349818164481064601774632618558199327832520810477672556446079154989643377708144538417081019906271241969845200645913029282608642379159596278134697726421985825029971896633408737417530706943314085006948005210645450563053053320685833056340301191685979582025571075677358558496129511616348591577014506419487145547245052090870509860325833829833624136,\n",
       "         'H': 15356605980991408472628612266121379712471826144397076842640130245773944641703921308451988953349903180514441613468550345864947257083715833939653213839586497525174981811512567438596755827636177037238408862089153108559150632843573041938261813892516815835993314200821543600361431572823181154595282701524851435399216832425202176056535628873274930540214195463208940276379431560405290059760924166757679110241373758079789170083245})"
      ]
     },
     "metadata": {},
     "output_type": "display_data"
    },
    {
     "name": "stdout",
     "output_type": "stream",
     "text": [
      "Wall time: 2.39 s\n"
     ]
    },
    {
     "data": {
      "text/plain": [
       "73652184591979630975921280044827564238518052134254035298404917143145158206854848628876089644920374527937254988242282725553556956521520941294929466889434710959079837869543699393171163522254107154308437120412848167663493079474621687532877659995333076858723676289690922129436120492292709790664545849494373422027649428038731398441437772203095705352246623202066662513711844009304182555537802994792676356782923361796537736127525"
      ]
     },
     "execution_count": 30,
     "metadata": {},
     "output_type": "execute_result"
    }
   ],
   "source": [
    "%%time\n",
    "c = polymerization_tree(polymer_template, 1400)\n",
    "display(c)\n",
    "c.most_common()[0][1] - c.most_common()[-1][1]"
   ]
  },
  {
   "cell_type": "markdown",
   "metadata": {},
   "source": [
    "It is possible to increase the stack limit, but that would be too much effort :D"
   ]
  }
 ],
 "metadata": {
  "kernelspec": {
   "display_name": "Python 3 (ipykernel)",
   "language": "python",
   "name": "python3"
  },
  "language_info": {
   "codemirror_mode": {
    "name": "ipython",
    "version": 3
   },
   "file_extension": ".py",
   "mimetype": "text/x-python",
   "name": "python",
   "nbconvert_exporter": "python",
   "pygments_lexer": "ipython3",
   "version": "3.8.10"
  }
 },
 "nbformat": 4,
 "nbformat_minor": 1
}