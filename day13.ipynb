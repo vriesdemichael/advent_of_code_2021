{
 "cells": [
  {
   "cell_type": "code",
   "execution_count": 109,
   "metadata": {
    "collapsed": true
   },
   "outputs": [],
   "source": [
    "import re\n",
    "from pathlib import Path\n",
    "\n",
    "import numpy as np\n",
    "import ipywidgets as widgets\n",
    "from ipywidgets import interact\n",
    "from matplotlib import pyplot as plt"
   ]
  },
  {
   "cell_type": "code",
   "execution_count": 44,
   "metadata": {
    "pycharm": {
     "name": "#%%\n"
    }
   },
   "outputs": [],
   "source": [
    "input_text = Path(\"input_data/13\").read_text()"
   ]
  },
  {
   "cell_type": "code",
   "execution_count": 45,
   "metadata": {
    "pycharm": {
     "name": "#%%\n"
    }
   },
   "outputs": [],
   "source": [
    "test_input1 = \"\"\"6,10\n",
    "0,14\n",
    "9,10\n",
    "0,3\n",
    "10,4\n",
    "4,11\n",
    "6,0\n",
    "6,12\n",
    "4,1\n",
    "0,13\n",
    "10,12\n",
    "3,4\n",
    "3,0\n",
    "8,4\n",
    "1,10\n",
    "2,14\n",
    "8,10\n",
    "9,0\n",
    "\n",
    "fold along y=7\n",
    "fold along x=5\"\"\""
   ]
  },
  {
   "cell_type": "code",
   "execution_count": 49,
   "metadata": {
    "pycharm": {
     "name": "#%%\n"
    }
   },
   "outputs": [],
   "source": [
    "def parse_input(text):\n",
    "    dots = []\n",
    "    folds= []\n",
    "    # for line in text.split(\"\\n\"):\n",
    "\n",
    "    dot_pattern = re.compile(r\"(?P<x>\\d+),(?P<y>\\d+)\")\n",
    "    fold_instruction_pattern = re.compile(r\"fold along (?P<axis>[xy])=(?P<index>\\d+)\")\n",
    "    for res in dot_pattern.finditer(text):\n",
    "        dots.append((int(res[\"x\"]), int(res[\"y\"])))\n",
    "\n",
    "    for res in fold_instruction_pattern.finditer(text):\n",
    "        folds.append((res[\"axis\"], int(res[\"index\"])))\n",
    "\n",
    "    max_x = max(dots, key=lambda x: x[0])[0]\n",
    "    max_y = max(dots, key=lambda x: x[1])[1]\n",
    "\n",
    "\n",
    "    mat = np.zeros((max_y + 1, max_x + 1), dtype=\"int8\")\n",
    "    for (x, y) in dots:\n",
    "        mat[y, x] = 1\n",
    "    return dots, folds, mat\n",
    "\n"
   ]
  },
  {
   "cell_type": "code",
   "execution_count": 93,
   "metadata": {
    "pycharm": {
     "name": "#%%\n"
    }
   },
   "outputs": [],
   "source": [
    "def fold(mat, axis, index):\n",
    "    if axis == \"x\":\n",
    "        left, right = mat[:, :index], mat[:, index + 1:]\n",
    "        return np.bitwise_or(left, np.fliplr(right))\n",
    "    elif axis == \"y\":\n",
    "        top, bottom = mat[:index, :], mat[index + 1:, :]\n",
    "        return np.bitwise_or(top, np.flip(bottom, 0))"
   ]
  },
  {
   "cell_type": "code",
   "execution_count": null,
   "metadata": {
    "pycharm": {
     "name": "#%%\n"
    }
   },
   "outputs": [],
   "source": []
  },
  {
   "cell_type": "code",
   "execution_count": 95,
   "metadata": {
    "pycharm": {
     "name": "#%%\n"
    }
   },
   "outputs": [
    {
     "data": {
      "text/plain": [
       "<matplotlib.image.AxesImage at 0x256db4d8d30>"
      ]
     },
     "execution_count": 95,
     "metadata": {},
     "output_type": "execute_result"
    },
    {
     "data": {
      "image/png": "[encoded data removed]",
      "text/plain": [
       "<Figure size 288x403.2 with 1 Axes>"
      ]
     },
     "metadata": {
      "needs_background": "light"
     },
     "output_type": "display_data"
    }
   ],
   "source": [
    "_, folds, mat = parse_input(test_input1)\n",
    "for axis, index in folds:\n",
    "    mat = fold(mat, axis, index)\n",
    "plt.matshow(mat)"
   ]
  },
  {
   "cell_type": "code",
   "execution_count": 107,
   "metadata": {
    "pycharm": {
     "name": "#%%\n"
    }
   },
   "outputs": [
    {
     "name": "stdout",
     "output_type": "stream",
     "text": [
      "(array([0, 1], dtype=int8), array([585460,    765], dtype=int64))\n"
     ]
    }
   ],
   "source": [
    "_, folds, mat = parse_input(input_text)\n",
    "for axis, index in folds[:1]:\n",
    "    mat = fold(mat, axis, index)\n",
    "# plt.matshow(mat)\n",
    "print(np.unique(mat, return_counts=True))"
   ]
  },
  {
   "cell_type": "code",
   "execution_count": 96,
   "metadata": {
    "pycharm": {
     "name": "#%%\n"
    }
   },
   "outputs": [
    {
     "data": {
      "text/plain": [
       "<matplotlib.image.AxesImage at 0x256db708370>"
      ]
     },
     "execution_count": 96,
     "metadata": {},
     "output_type": "execute_result"
    },
    {
     "data": {
      "image/png": "[encoded data removed]",
      "text/plain": [
       "<Figure size 1152x172.8 with 1 Axes>"
      ]
     },
     "metadata": {
      "needs_background": "light"
     },
     "output_type": "display_data"
    }
   ],
   "source": [
    "_, folds, mat = parse_input(input_text)\n",
    "for axis, index in folds:\n",
    "    mat = fold(mat, axis, index)\n",
    "plt.matshow(mat)"
   ]
  },
  {
   "cell_type": "code",
   "execution_count": 125,
   "metadata": {
    "pycharm": {
     "name": "#%%\n"
    }
   },
   "outputs": [
    {
     "data": {
      "application/vnd.jupyter.widget-view+json": {
       "model_id": "e3fd5e4c16304effab7e2853bea30a65",
       "version_major": 2,
       "version_minor": 0
      },
      "text/plain": [
       "interactive(children=(IntSlider(value=6, description='x', max=12), Output(layout=Layout(height='350px'))), _do…"
      ]
     },
     "metadata": {},
     "output_type": "display_data"
    }
   ],
   "source": [
    "from ipywidgets import interactive\n",
    "\n",
    "# output = widgets.Output()\n",
    "# display(output)\n",
    "def draw_mat(x):\n",
    "    _, folds, mat = parse_input(input_text)\n",
    "    for axis, index in folds[:x]:\n",
    "        mat = fold(mat, axis, index)\n",
    "    # with output:\n",
    "    display(plt.matshow(mat))\n",
    "    # output.clear_output(wait=True)\n",
    "\n",
    "slider = widgets.IntSlider(0, 0, len(folds), step=1)\n",
    "# display(slider)\n",
    "interactive_plot = interactive(draw_mat, x=(0, len(folds), 1))\n",
    "output = interactive_plot.children[-1]\n",
    "output.layout.height = '350px'\n",
    "_ = display(interactive_plot)\n"
   ]
  },
  {
   "cell_type": "code",
   "execution_count": null,
   "metadata": {
    "pycharm": {
     "name": "#%%\n"
    }
   },
   "outputs": [],
   "source": []
  }
 ],
 "metadata": {
  "kernelspec": {
   "display_name": "Python 3 (ipykernel)",
   "language": "python",
   "name": "python3"
  },
  "language_info": {
   "codemirror_mode": {
    "name": "ipython",
    "version": 3
   },
   "file_extension": ".py",
   "mimetype": "text/x-python",
   "name": "python",
   "nbconvert_exporter": "python",
   "pygments_lexer": "ipython3",
   "version": "3.10.0"
  }
 },
 "nbformat": 4,
 "nbformat_minor": 1
}